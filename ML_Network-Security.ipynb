{
 "cells": [
  {
   "cell_type": "markdown",
   "id": "809104ff-3eeb-4f9c-8bc6-3c928c12bd06",
   "metadata": {},
   "source": [
    "# Machine Learning and Artificial Intelligence Research\n",
    "### Network Security: Instrusion Detection"
   ]
  },
  {
   "cell_type": "markdown",
   "id": "84830671-9ae7-4e89-9d0c-b49ddf45908d",
   "metadata": {},
   "source": [
    "## Table of contents\n",
    "* [Introduction](#introduction_security)\n",
    "  * [Background / Problem](#background_problem_security)\n",
    "* [Data](#data_security)\n",
    "  * [Import the Data](#pulldata_security)\n",
    "  * [Exploration (Missing Values, Data Dispersion, Data Types)](#evaluate_security)\n",
    "  * [Visualizations](#visual_barh_security)\n",
    "    * [Correlation Matrix](#corr_matrix_security) \n",
    "    * [Review Dataset Balance](#data_balance_security)     \n",
    "  * [Data Processing and Preparation](#dataprep_security)\n",
    "  * [Set Classification Target Values](#setclasstarget_security)\n",
    "  * [Perform One Hot Encoding](#onehot_security)\n",
    "  * [Scale / Normalize (for continuous features)](#normalize_security)\n",
    "  * [Set Train / Test Splits](#train_test_security)\n",
    "* [Methodology - Supervised Learning: Classification](#method_class_security)\n",
    "  * [Random Forest](#randomforest_security)\n",
    "  * [Support Vector Machines](#svm_security)\n",
    "  * [Logistic Regression](#lr_security)\n",
    "  * [Gaussian Naive Bayes](#naive_bayes_security)\n",
    "  * [Gradient Boosting](#gradient_boosting_security)\n",
    "  * [Multi-Layer Perceptron](#multi_layer_security)\n",
    "* [Model Comparison](#mod_comp_security)\n",
    "* [Conclusion](#conclusion_security)\n",
    "\n"
   ]
  },
  {
   "cell_type": "markdown",
   "id": "443f28d8-5de6-4ac8-8de2-31577b0e1299",
   "metadata": {},
   "source": [
    "## Introduction <a name=\"introduction_security\"></a>\n",
    "\n",
    "### Background / Problem <a name=\"background_problem\"></a>\n",
    "\n",
    "Machine Learning (ML) can be a major cybersecurity tool to help companies and governments identify cyber threats. Below are some examples of how enterprises can implement ML to fight cyber threats.\n",
    "1. Cyber Threat Identification to monitor suspicious activity of outgoing and incoming calls as well as system requests.\n",
    "1.  AI-Based Antivirus Software that is integrated with ML and identifies malware by its abnormal behavior patterns.\n",
    "1. Email Monitoring to identify suspicious patterns and phrases associated with phishing attacks, using natural language processing and anomaly detection technologies to identify threats. \n",
    "* Inspirational articles and references include:\n",
    "  * https://thecleverprogrammer.com/2020/08/12/network-security-with-machine-learning/\n",
    "  * https://www.geeksforgeeks.org/top-5-applications-of-machine-learning-in-cyber-security/\n",
    "  * https://github.com/rajtulluri/Intrusion-Detection/blob/master/Performance%20Evaluation%20of%20Supervised%20Machine%20Learning%20Algorithms%20for%20Intrusion%20Detection.ipynb\n",
    "\n",
    "### Data Description\n",
    "The data includes four distinct classes of attacks: Denial of Service (DoS), Probe, User to Root (U2R), and Remote to Local (R2L). See below for a brief description of each attack:\n",
    "* DoS: attacks the target system by attempting to shut down traffic flow by overloading the system. An example of this could be an online retailer getting flooded with online orders on a day with a big sale. Since the network can’t handle all the requests, it will shut down, preventing paying customers from completing purchases. This is the most common attack in the data set.\n",
    "* Probe or surveillance is an attack that tries to get information from a network. The goal here is to act like a thief and steal important information, whether it be personal information about clients or banking information.\n",
    "* U2R is an attack that starts off with a normal user account and tries to gain access to the system or network, as a super-user (root). The attacker attempts to exploit the vulnerabilities in a system to gain root privileges/access.\n",
    "* R2L is an attack that tries to gain local access to a remote machine. An attacker does not have local access to the system/network, and tries to “hack” their way into the network."
   ]
  },
  {
   "cell_type": "code",
   "execution_count": 50,
   "id": "b40a2908-0c3f-4f63-bb55-a3600171e4e2",
   "metadata": {},
   "outputs": [],
   "source": [
    "import numpy as np\n",
    "import pandas as pd\n",
    "import matplotlib as mpl\n",
    "import matplotlib.pyplot as plt\n",
    "from matplotlib import rcParams\n",
    "import seaborn as sns\n",
    "import warnings\n",
    "warnings.filterwarnings('ignore')\n",
    "import os\n",
    "from collections import defaultdict\n",
    "\n",
    "from sklearn.preprocessing import LabelEncoder, StandardScaler\n",
    "from sklearn.model_selection import train_test_split, cross_validate\n",
    "from sklearn.metrics import classification_report, confusion_matrix, precision_score, recall_score, f1_score\n",
    "from sklearn.metrics import roc_auc_score, roc_curve\n",
    "from sklearn.ensemble import RandomForestClassifier, GradientBoostingClassifier\n",
    "from sklearn.svm import SVC\n",
    "from sklearn.linear_model import LogisticRegression\n",
    "from sklearn.naive_bayes import GaussianNB\n",
    "from sklearn.neural_network import MLPClassifier\n",
    "from sklearn.calibration import calibration_curve\n",
    "import matplotlib.lines as mlines"
   ]
  },
  {
   "cell_type": "markdown",
   "id": "0106abc8-657f-4e81-9345-d4974de5b705",
   "metadata": {},
   "source": [
    "## Data <a name=\"data_security\"></a>"
   ]
  },
  {
   "cell_type": "markdown",
   "id": "18596367-bab5-484b-b1ae-de4622ea6b84",
   "metadata": {},
   "source": [
    "### Import the Data <a name=\"pulldata_security\"></a>"
   ]
  },
  {
   "cell_type": "code",
   "execution_count": 51,
   "id": "37688b3c-d5eb-4657-ad08-2c46b0764944",
   "metadata": {},
   "outputs": [],
   "source": [
    "header_names = ['duration', 'protocol_type', 'service', 'flag', \n",
    "                'src_bytes', 'dst_bytes', 'land', 'wrong_fragment',\n",
    "                'urgent', 'hot', 'num_failed_logins', 'logged_in',\n",
    "                'num_compromised', 'root_shell', 'su_attempted', \n",
    "                'num_root', 'num_file_creations', 'num_shells', \n",
    "                'num_access_files', 'num_outbound_cmds', \n",
    "                'is_host_login', 'is_guest_login', 'count', \n",
    "                'srv_count', 'serror_rate', 'srv_serror_rate', \n",
    "                'rerror_rate', 'srv_rerror_rate', 'same_srv_rate',\n",
    "                'diff_srv_rate', 'srv_diff_host_rate', \n",
    "                'dst_host_count', 'dst_host_srv_count', \n",
    "                'dst_host_same_srv_rate', 'dst_host_diff_srv_rate',\n",
    "                'dst_host_same_src_port_rate', 'dst_host_srv_diff_host_rate',\n",
    "                'dst_host_serror_rate', 'dst_host_srv_serror_rate', \n",
    "                'dst_host_rerror_rate', 'dst_host_srv_rerror_rate', \n",
    "                'attack_type', 'success_pred']"
   ]
  },
  {
   "cell_type": "code",
   "execution_count": 52,
   "id": "786564bc-c3ec-4d88-967e-bc0520616e3a",
   "metadata": {},
   "outputs": [],
   "source": [
    "col_names = np.array(header_names)"
   ]
  },
  {
   "cell_type": "code",
   "execution_count": 53,
   "id": "dc218810-cfd5-41e0-aae8-de5c2ddfb575",
   "metadata": {},
   "outputs": [
    {
     "data": {
      "text/html": [
       "<div>\n",
       "<style scoped>\n",
       "    .dataframe tbody tr th:only-of-type {\n",
       "        vertical-align: middle;\n",
       "    }\n",
       "\n",
       "    .dataframe tbody tr th {\n",
       "        vertical-align: top;\n",
       "    }\n",
       "\n",
       "    .dataframe thead th {\n",
       "        text-align: right;\n",
       "    }\n",
       "</style>\n",
       "<table border=\"1\" class=\"dataframe\">\n",
       "  <thead>\n",
       "    <tr style=\"text-align: right;\">\n",
       "      <th></th>\n",
       "      <th>duration</th>\n",
       "      <th>protocol_type</th>\n",
       "      <th>service</th>\n",
       "      <th>flag</th>\n",
       "      <th>src_bytes</th>\n",
       "      <th>dst_bytes</th>\n",
       "      <th>land</th>\n",
       "      <th>wrong_fragment</th>\n",
       "      <th>urgent</th>\n",
       "      <th>hot</th>\n",
       "      <th>...</th>\n",
       "      <th>dst_host_same_srv_rate</th>\n",
       "      <th>dst_host_diff_srv_rate</th>\n",
       "      <th>dst_host_same_src_port_rate</th>\n",
       "      <th>dst_host_srv_diff_host_rate</th>\n",
       "      <th>dst_host_serror_rate</th>\n",
       "      <th>dst_host_srv_serror_rate</th>\n",
       "      <th>dst_host_rerror_rate</th>\n",
       "      <th>dst_host_srv_rerror_rate</th>\n",
       "      <th>attack_type</th>\n",
       "      <th>success_pred</th>\n",
       "    </tr>\n",
       "  </thead>\n",
       "  <tbody>\n",
       "    <tr>\n",
       "      <th>0</th>\n",
       "      <td>0</td>\n",
       "      <td>tcp</td>\n",
       "      <td>ftp_data</td>\n",
       "      <td>SF</td>\n",
       "      <td>491</td>\n",
       "      <td>0</td>\n",
       "      <td>0</td>\n",
       "      <td>0</td>\n",
       "      <td>0</td>\n",
       "      <td>0</td>\n",
       "      <td>...</td>\n",
       "      <td>0.17</td>\n",
       "      <td>0.03</td>\n",
       "      <td>0.17</td>\n",
       "      <td>0.00</td>\n",
       "      <td>0.00</td>\n",
       "      <td>0.00</td>\n",
       "      <td>0.05</td>\n",
       "      <td>0.00</td>\n",
       "      <td>normal</td>\n",
       "      <td>20</td>\n",
       "    </tr>\n",
       "    <tr>\n",
       "      <th>1</th>\n",
       "      <td>0</td>\n",
       "      <td>udp</td>\n",
       "      <td>other</td>\n",
       "      <td>SF</td>\n",
       "      <td>146</td>\n",
       "      <td>0</td>\n",
       "      <td>0</td>\n",
       "      <td>0</td>\n",
       "      <td>0</td>\n",
       "      <td>0</td>\n",
       "      <td>...</td>\n",
       "      <td>0.00</td>\n",
       "      <td>0.60</td>\n",
       "      <td>0.88</td>\n",
       "      <td>0.00</td>\n",
       "      <td>0.00</td>\n",
       "      <td>0.00</td>\n",
       "      <td>0.00</td>\n",
       "      <td>0.00</td>\n",
       "      <td>normal</td>\n",
       "      <td>15</td>\n",
       "    </tr>\n",
       "    <tr>\n",
       "      <th>2</th>\n",
       "      <td>0</td>\n",
       "      <td>tcp</td>\n",
       "      <td>private</td>\n",
       "      <td>S0</td>\n",
       "      <td>0</td>\n",
       "      <td>0</td>\n",
       "      <td>0</td>\n",
       "      <td>0</td>\n",
       "      <td>0</td>\n",
       "      <td>0</td>\n",
       "      <td>...</td>\n",
       "      <td>0.10</td>\n",
       "      <td>0.05</td>\n",
       "      <td>0.00</td>\n",
       "      <td>0.00</td>\n",
       "      <td>1.00</td>\n",
       "      <td>1.00</td>\n",
       "      <td>0.00</td>\n",
       "      <td>0.00</td>\n",
       "      <td>neptune</td>\n",
       "      <td>19</td>\n",
       "    </tr>\n",
       "    <tr>\n",
       "      <th>3</th>\n",
       "      <td>0</td>\n",
       "      <td>tcp</td>\n",
       "      <td>http</td>\n",
       "      <td>SF</td>\n",
       "      <td>232</td>\n",
       "      <td>8153</td>\n",
       "      <td>0</td>\n",
       "      <td>0</td>\n",
       "      <td>0</td>\n",
       "      <td>0</td>\n",
       "      <td>...</td>\n",
       "      <td>1.00</td>\n",
       "      <td>0.00</td>\n",
       "      <td>0.03</td>\n",
       "      <td>0.04</td>\n",
       "      <td>0.03</td>\n",
       "      <td>0.01</td>\n",
       "      <td>0.00</td>\n",
       "      <td>0.01</td>\n",
       "      <td>normal</td>\n",
       "      <td>21</td>\n",
       "    </tr>\n",
       "    <tr>\n",
       "      <th>4</th>\n",
       "      <td>0</td>\n",
       "      <td>tcp</td>\n",
       "      <td>http</td>\n",
       "      <td>SF</td>\n",
       "      <td>199</td>\n",
       "      <td>420</td>\n",
       "      <td>0</td>\n",
       "      <td>0</td>\n",
       "      <td>0</td>\n",
       "      <td>0</td>\n",
       "      <td>...</td>\n",
       "      <td>1.00</td>\n",
       "      <td>0.00</td>\n",
       "      <td>0.00</td>\n",
       "      <td>0.00</td>\n",
       "      <td>0.00</td>\n",
       "      <td>0.00</td>\n",
       "      <td>0.00</td>\n",
       "      <td>0.00</td>\n",
       "      <td>normal</td>\n",
       "      <td>21</td>\n",
       "    </tr>\n",
       "    <tr>\n",
       "      <th>...</th>\n",
       "      <td>...</td>\n",
       "      <td>...</td>\n",
       "      <td>...</td>\n",
       "      <td>...</td>\n",
       "      <td>...</td>\n",
       "      <td>...</td>\n",
       "      <td>...</td>\n",
       "      <td>...</td>\n",
       "      <td>...</td>\n",
       "      <td>...</td>\n",
       "      <td>...</td>\n",
       "      <td>...</td>\n",
       "      <td>...</td>\n",
       "      <td>...</td>\n",
       "      <td>...</td>\n",
       "      <td>...</td>\n",
       "      <td>...</td>\n",
       "      <td>...</td>\n",
       "      <td>...</td>\n",
       "      <td>...</td>\n",
       "      <td>...</td>\n",
       "    </tr>\n",
       "    <tr>\n",
       "      <th>125968</th>\n",
       "      <td>0</td>\n",
       "      <td>tcp</td>\n",
       "      <td>private</td>\n",
       "      <td>S0</td>\n",
       "      <td>0</td>\n",
       "      <td>0</td>\n",
       "      <td>0</td>\n",
       "      <td>0</td>\n",
       "      <td>0</td>\n",
       "      <td>0</td>\n",
       "      <td>...</td>\n",
       "      <td>0.10</td>\n",
       "      <td>0.06</td>\n",
       "      <td>0.00</td>\n",
       "      <td>0.00</td>\n",
       "      <td>1.00</td>\n",
       "      <td>1.00</td>\n",
       "      <td>0.00</td>\n",
       "      <td>0.00</td>\n",
       "      <td>neptune</td>\n",
       "      <td>20</td>\n",
       "    </tr>\n",
       "    <tr>\n",
       "      <th>125969</th>\n",
       "      <td>8</td>\n",
       "      <td>udp</td>\n",
       "      <td>private</td>\n",
       "      <td>SF</td>\n",
       "      <td>105</td>\n",
       "      <td>145</td>\n",
       "      <td>0</td>\n",
       "      <td>0</td>\n",
       "      <td>0</td>\n",
       "      <td>0</td>\n",
       "      <td>...</td>\n",
       "      <td>0.96</td>\n",
       "      <td>0.01</td>\n",
       "      <td>0.01</td>\n",
       "      <td>0.00</td>\n",
       "      <td>0.00</td>\n",
       "      <td>0.00</td>\n",
       "      <td>0.00</td>\n",
       "      <td>0.00</td>\n",
       "      <td>normal</td>\n",
       "      <td>21</td>\n",
       "    </tr>\n",
       "    <tr>\n",
       "      <th>125970</th>\n",
       "      <td>0</td>\n",
       "      <td>tcp</td>\n",
       "      <td>smtp</td>\n",
       "      <td>SF</td>\n",
       "      <td>2231</td>\n",
       "      <td>384</td>\n",
       "      <td>0</td>\n",
       "      <td>0</td>\n",
       "      <td>0</td>\n",
       "      <td>0</td>\n",
       "      <td>...</td>\n",
       "      <td>0.12</td>\n",
       "      <td>0.06</td>\n",
       "      <td>0.00</td>\n",
       "      <td>0.00</td>\n",
       "      <td>0.72</td>\n",
       "      <td>0.00</td>\n",
       "      <td>0.01</td>\n",
       "      <td>0.00</td>\n",
       "      <td>normal</td>\n",
       "      <td>18</td>\n",
       "    </tr>\n",
       "    <tr>\n",
       "      <th>125971</th>\n",
       "      <td>0</td>\n",
       "      <td>tcp</td>\n",
       "      <td>klogin</td>\n",
       "      <td>S0</td>\n",
       "      <td>0</td>\n",
       "      <td>0</td>\n",
       "      <td>0</td>\n",
       "      <td>0</td>\n",
       "      <td>0</td>\n",
       "      <td>0</td>\n",
       "      <td>...</td>\n",
       "      <td>0.03</td>\n",
       "      <td>0.05</td>\n",
       "      <td>0.00</td>\n",
       "      <td>0.00</td>\n",
       "      <td>1.00</td>\n",
       "      <td>1.00</td>\n",
       "      <td>0.00</td>\n",
       "      <td>0.00</td>\n",
       "      <td>neptune</td>\n",
       "      <td>20</td>\n",
       "    </tr>\n",
       "    <tr>\n",
       "      <th>125972</th>\n",
       "      <td>0</td>\n",
       "      <td>tcp</td>\n",
       "      <td>ftp_data</td>\n",
       "      <td>SF</td>\n",
       "      <td>151</td>\n",
       "      <td>0</td>\n",
       "      <td>0</td>\n",
       "      <td>0</td>\n",
       "      <td>0</td>\n",
       "      <td>0</td>\n",
       "      <td>...</td>\n",
       "      <td>0.30</td>\n",
       "      <td>0.03</td>\n",
       "      <td>0.30</td>\n",
       "      <td>0.00</td>\n",
       "      <td>0.00</td>\n",
       "      <td>0.00</td>\n",
       "      <td>0.00</td>\n",
       "      <td>0.00</td>\n",
       "      <td>normal</td>\n",
       "      <td>21</td>\n",
       "    </tr>\n",
       "  </tbody>\n",
       "</table>\n",
       "<p>125973 rows × 43 columns</p>\n",
       "</div>"
      ],
      "text/plain": [
       "        duration protocol_type   service flag  src_bytes  dst_bytes  land  \\\n",
       "0              0           tcp  ftp_data   SF        491          0     0   \n",
       "1              0           udp     other   SF        146          0     0   \n",
       "2              0           tcp   private   S0          0          0     0   \n",
       "3              0           tcp      http   SF        232       8153     0   \n",
       "4              0           tcp      http   SF        199        420     0   \n",
       "...          ...           ...       ...  ...        ...        ...   ...   \n",
       "125968         0           tcp   private   S0          0          0     0   \n",
       "125969         8           udp   private   SF        105        145     0   \n",
       "125970         0           tcp      smtp   SF       2231        384     0   \n",
       "125971         0           tcp    klogin   S0          0          0     0   \n",
       "125972         0           tcp  ftp_data   SF        151          0     0   \n",
       "\n",
       "        wrong_fragment  urgent  hot  ...  dst_host_same_srv_rate  \\\n",
       "0                    0       0    0  ...                    0.17   \n",
       "1                    0       0    0  ...                    0.00   \n",
       "2                    0       0    0  ...                    0.10   \n",
       "3                    0       0    0  ...                    1.00   \n",
       "4                    0       0    0  ...                    1.00   \n",
       "...                ...     ...  ...  ...                     ...   \n",
       "125968               0       0    0  ...                    0.10   \n",
       "125969               0       0    0  ...                    0.96   \n",
       "125970               0       0    0  ...                    0.12   \n",
       "125971               0       0    0  ...                    0.03   \n",
       "125972               0       0    0  ...                    0.30   \n",
       "\n",
       "        dst_host_diff_srv_rate  dst_host_same_src_port_rate  \\\n",
       "0                         0.03                         0.17   \n",
       "1                         0.60                         0.88   \n",
       "2                         0.05                         0.00   \n",
       "3                         0.00                         0.03   \n",
       "4                         0.00                         0.00   \n",
       "...                        ...                          ...   \n",
       "125968                    0.06                         0.00   \n",
       "125969                    0.01                         0.01   \n",
       "125970                    0.06                         0.00   \n",
       "125971                    0.05                         0.00   \n",
       "125972                    0.03                         0.30   \n",
       "\n",
       "        dst_host_srv_diff_host_rate  dst_host_serror_rate  \\\n",
       "0                              0.00                  0.00   \n",
       "1                              0.00                  0.00   \n",
       "2                              0.00                  1.00   \n",
       "3                              0.04                  0.03   \n",
       "4                              0.00                  0.00   \n",
       "...                             ...                   ...   \n",
       "125968                         0.00                  1.00   \n",
       "125969                         0.00                  0.00   \n",
       "125970                         0.00                  0.72   \n",
       "125971                         0.00                  1.00   \n",
       "125972                         0.00                  0.00   \n",
       "\n",
       "        dst_host_srv_serror_rate  dst_host_rerror_rate  \\\n",
       "0                           0.00                  0.05   \n",
       "1                           0.00                  0.00   \n",
       "2                           1.00                  0.00   \n",
       "3                           0.01                  0.00   \n",
       "4                           0.00                  0.00   \n",
       "...                          ...                   ...   \n",
       "125968                      1.00                  0.00   \n",
       "125969                      0.00                  0.00   \n",
       "125970                      0.00                  0.01   \n",
       "125971                      1.00                  0.00   \n",
       "125972                      0.00                  0.00   \n",
       "\n",
       "        dst_host_srv_rerror_rate  attack_type  success_pred  \n",
       "0                           0.00       normal            20  \n",
       "1                           0.00       normal            15  \n",
       "2                           0.00      neptune            19  \n",
       "3                           0.01       normal            21  \n",
       "4                           0.00       normal            21  \n",
       "...                          ...          ...           ...  \n",
       "125968                      0.00      neptune            20  \n",
       "125969                      0.00       normal            21  \n",
       "125970                      0.00       normal            18  \n",
       "125971                      0.00      neptune            20  \n",
       "125972                      0.00       normal            21  \n",
       "\n",
       "[125973 rows x 43 columns]"
      ]
     },
     "execution_count": 53,
     "metadata": {},
     "output_type": "execute_result"
    }
   ],
   "source": [
    "train = pd.read_csv('KDDTrain+.txt', header=None, names=header_names)\n",
    "test = pd.read_csv('KDDTest+.txt', header=None, names=header_names)\n",
    "train"
   ]
  },
  {
   "cell_type": "markdown",
   "id": "adc53674-ed60-4362-ba69-e61783886a47",
   "metadata": {
    "tags": []
   },
   "source": [
    "### Exploration (Missing Values, Data Dispersion, Data Types) <a name=\"evaluate_security\"></a>\n",
    "\n",
    "As shown previously, the test set contains types of attacks which are not in the train set. Every attack has a different kind of signature. The model can learn the signature of a type of an attack and can thus detect it in future. But for those attacks whose signatures are not known might not always be detected by the model. To avoid such an issue, the two sets are combined and then randomly split into train and test set again.\n",
    "\n",
    "The train set will be used to train the model and test set for testing the model on unseen data."
   ]
  },
  {
   "cell_type": "code",
   "execution_count": 54,
   "id": "4b748404-8394-4313-8658-7a4cfe9bac93",
   "metadata": {},
   "outputs": [],
   "source": [
    "combined_data = pd.concat([train,test],axis=0)"
   ]
  },
  {
   "cell_type": "code",
   "execution_count": 55,
   "id": "8bfaddf5-7ab7-42f2-bbf7-b7e2aebdf6b2",
   "metadata": {},
   "outputs": [
    {
     "data": {
      "text/html": [
       "<div>\n",
       "<style scoped>\n",
       "    .dataframe tbody tr th:only-of-type {\n",
       "        vertical-align: middle;\n",
       "    }\n",
       "\n",
       "    .dataframe tbody tr th {\n",
       "        vertical-align: top;\n",
       "    }\n",
       "\n",
       "    .dataframe thead th {\n",
       "        text-align: right;\n",
       "    }\n",
       "</style>\n",
       "<table border=\"1\" class=\"dataframe\">\n",
       "  <thead>\n",
       "    <tr style=\"text-align: right;\">\n",
       "      <th></th>\n",
       "      <th>duration</th>\n",
       "      <th>protocol_type</th>\n",
       "      <th>service</th>\n",
       "      <th>flag</th>\n",
       "      <th>src_bytes</th>\n",
       "      <th>dst_bytes</th>\n",
       "      <th>land</th>\n",
       "      <th>wrong_fragment</th>\n",
       "      <th>urgent</th>\n",
       "      <th>hot</th>\n",
       "      <th>...</th>\n",
       "      <th>dst_host_same_srv_rate</th>\n",
       "      <th>dst_host_diff_srv_rate</th>\n",
       "      <th>dst_host_same_src_port_rate</th>\n",
       "      <th>dst_host_srv_diff_host_rate</th>\n",
       "      <th>dst_host_serror_rate</th>\n",
       "      <th>dst_host_srv_serror_rate</th>\n",
       "      <th>dst_host_rerror_rate</th>\n",
       "      <th>dst_host_srv_rerror_rate</th>\n",
       "      <th>attack_type</th>\n",
       "      <th>success_pred</th>\n",
       "    </tr>\n",
       "  </thead>\n",
       "  <tbody>\n",
       "    <tr>\n",
       "      <th>0</th>\n",
       "      <td>0</td>\n",
       "      <td>tcp</td>\n",
       "      <td>ftp_data</td>\n",
       "      <td>SF</td>\n",
       "      <td>491</td>\n",
       "      <td>0</td>\n",
       "      <td>0</td>\n",
       "      <td>0</td>\n",
       "      <td>0</td>\n",
       "      <td>0</td>\n",
       "      <td>...</td>\n",
       "      <td>0.17</td>\n",
       "      <td>0.03</td>\n",
       "      <td>0.17</td>\n",
       "      <td>0.00</td>\n",
       "      <td>0.00</td>\n",
       "      <td>0.00</td>\n",
       "      <td>0.05</td>\n",
       "      <td>0.00</td>\n",
       "      <td>normal</td>\n",
       "      <td>20</td>\n",
       "    </tr>\n",
       "    <tr>\n",
       "      <th>1</th>\n",
       "      <td>0</td>\n",
       "      <td>udp</td>\n",
       "      <td>other</td>\n",
       "      <td>SF</td>\n",
       "      <td>146</td>\n",
       "      <td>0</td>\n",
       "      <td>0</td>\n",
       "      <td>0</td>\n",
       "      <td>0</td>\n",
       "      <td>0</td>\n",
       "      <td>...</td>\n",
       "      <td>0.00</td>\n",
       "      <td>0.60</td>\n",
       "      <td>0.88</td>\n",
       "      <td>0.00</td>\n",
       "      <td>0.00</td>\n",
       "      <td>0.00</td>\n",
       "      <td>0.00</td>\n",
       "      <td>0.00</td>\n",
       "      <td>normal</td>\n",
       "      <td>15</td>\n",
       "    </tr>\n",
       "    <tr>\n",
       "      <th>2</th>\n",
       "      <td>0</td>\n",
       "      <td>tcp</td>\n",
       "      <td>private</td>\n",
       "      <td>S0</td>\n",
       "      <td>0</td>\n",
       "      <td>0</td>\n",
       "      <td>0</td>\n",
       "      <td>0</td>\n",
       "      <td>0</td>\n",
       "      <td>0</td>\n",
       "      <td>...</td>\n",
       "      <td>0.10</td>\n",
       "      <td>0.05</td>\n",
       "      <td>0.00</td>\n",
       "      <td>0.00</td>\n",
       "      <td>1.00</td>\n",
       "      <td>1.00</td>\n",
       "      <td>0.00</td>\n",
       "      <td>0.00</td>\n",
       "      <td>neptune</td>\n",
       "      <td>19</td>\n",
       "    </tr>\n",
       "    <tr>\n",
       "      <th>3</th>\n",
       "      <td>0</td>\n",
       "      <td>tcp</td>\n",
       "      <td>http</td>\n",
       "      <td>SF</td>\n",
       "      <td>232</td>\n",
       "      <td>8153</td>\n",
       "      <td>0</td>\n",
       "      <td>0</td>\n",
       "      <td>0</td>\n",
       "      <td>0</td>\n",
       "      <td>...</td>\n",
       "      <td>1.00</td>\n",
       "      <td>0.00</td>\n",
       "      <td>0.03</td>\n",
       "      <td>0.04</td>\n",
       "      <td>0.03</td>\n",
       "      <td>0.01</td>\n",
       "      <td>0.00</td>\n",
       "      <td>0.01</td>\n",
       "      <td>normal</td>\n",
       "      <td>21</td>\n",
       "    </tr>\n",
       "    <tr>\n",
       "      <th>4</th>\n",
       "      <td>0</td>\n",
       "      <td>tcp</td>\n",
       "      <td>http</td>\n",
       "      <td>SF</td>\n",
       "      <td>199</td>\n",
       "      <td>420</td>\n",
       "      <td>0</td>\n",
       "      <td>0</td>\n",
       "      <td>0</td>\n",
       "      <td>0</td>\n",
       "      <td>...</td>\n",
       "      <td>1.00</td>\n",
       "      <td>0.00</td>\n",
       "      <td>0.00</td>\n",
       "      <td>0.00</td>\n",
       "      <td>0.00</td>\n",
       "      <td>0.00</td>\n",
       "      <td>0.00</td>\n",
       "      <td>0.00</td>\n",
       "      <td>normal</td>\n",
       "      <td>21</td>\n",
       "    </tr>\n",
       "    <tr>\n",
       "      <th>...</th>\n",
       "      <td>...</td>\n",
       "      <td>...</td>\n",
       "      <td>...</td>\n",
       "      <td>...</td>\n",
       "      <td>...</td>\n",
       "      <td>...</td>\n",
       "      <td>...</td>\n",
       "      <td>...</td>\n",
       "      <td>...</td>\n",
       "      <td>...</td>\n",
       "      <td>...</td>\n",
       "      <td>...</td>\n",
       "      <td>...</td>\n",
       "      <td>...</td>\n",
       "      <td>...</td>\n",
       "      <td>...</td>\n",
       "      <td>...</td>\n",
       "      <td>...</td>\n",
       "      <td>...</td>\n",
       "      <td>...</td>\n",
       "      <td>...</td>\n",
       "    </tr>\n",
       "    <tr>\n",
       "      <th>22539</th>\n",
       "      <td>0</td>\n",
       "      <td>tcp</td>\n",
       "      <td>smtp</td>\n",
       "      <td>SF</td>\n",
       "      <td>794</td>\n",
       "      <td>333</td>\n",
       "      <td>0</td>\n",
       "      <td>0</td>\n",
       "      <td>0</td>\n",
       "      <td>0</td>\n",
       "      <td>...</td>\n",
       "      <td>0.72</td>\n",
       "      <td>0.06</td>\n",
       "      <td>0.01</td>\n",
       "      <td>0.01</td>\n",
       "      <td>0.01</td>\n",
       "      <td>0.00</td>\n",
       "      <td>0.00</td>\n",
       "      <td>0.00</td>\n",
       "      <td>normal</td>\n",
       "      <td>21</td>\n",
       "    </tr>\n",
       "    <tr>\n",
       "      <th>22540</th>\n",
       "      <td>0</td>\n",
       "      <td>tcp</td>\n",
       "      <td>http</td>\n",
       "      <td>SF</td>\n",
       "      <td>317</td>\n",
       "      <td>938</td>\n",
       "      <td>0</td>\n",
       "      <td>0</td>\n",
       "      <td>0</td>\n",
       "      <td>0</td>\n",
       "      <td>...</td>\n",
       "      <td>1.00</td>\n",
       "      <td>0.00</td>\n",
       "      <td>0.01</td>\n",
       "      <td>0.01</td>\n",
       "      <td>0.01</td>\n",
       "      <td>0.00</td>\n",
       "      <td>0.00</td>\n",
       "      <td>0.00</td>\n",
       "      <td>normal</td>\n",
       "      <td>21</td>\n",
       "    </tr>\n",
       "    <tr>\n",
       "      <th>22541</th>\n",
       "      <td>0</td>\n",
       "      <td>tcp</td>\n",
       "      <td>http</td>\n",
       "      <td>SF</td>\n",
       "      <td>54540</td>\n",
       "      <td>8314</td>\n",
       "      <td>0</td>\n",
       "      <td>0</td>\n",
       "      <td>0</td>\n",
       "      <td>2</td>\n",
       "      <td>...</td>\n",
       "      <td>1.00</td>\n",
       "      <td>0.00</td>\n",
       "      <td>0.00</td>\n",
       "      <td>0.00</td>\n",
       "      <td>0.00</td>\n",
       "      <td>0.00</td>\n",
       "      <td>0.07</td>\n",
       "      <td>0.07</td>\n",
       "      <td>back</td>\n",
       "      <td>15</td>\n",
       "    </tr>\n",
       "    <tr>\n",
       "      <th>22542</th>\n",
       "      <td>0</td>\n",
       "      <td>udp</td>\n",
       "      <td>domain_u</td>\n",
       "      <td>SF</td>\n",
       "      <td>42</td>\n",
       "      <td>42</td>\n",
       "      <td>0</td>\n",
       "      <td>0</td>\n",
       "      <td>0</td>\n",
       "      <td>0</td>\n",
       "      <td>...</td>\n",
       "      <td>0.99</td>\n",
       "      <td>0.01</td>\n",
       "      <td>0.00</td>\n",
       "      <td>0.00</td>\n",
       "      <td>0.00</td>\n",
       "      <td>0.00</td>\n",
       "      <td>0.00</td>\n",
       "      <td>0.00</td>\n",
       "      <td>normal</td>\n",
       "      <td>21</td>\n",
       "    </tr>\n",
       "    <tr>\n",
       "      <th>22543</th>\n",
       "      <td>0</td>\n",
       "      <td>tcp</td>\n",
       "      <td>sunrpc</td>\n",
       "      <td>REJ</td>\n",
       "      <td>0</td>\n",
       "      <td>0</td>\n",
       "      <td>0</td>\n",
       "      <td>0</td>\n",
       "      <td>0</td>\n",
       "      <td>0</td>\n",
       "      <td>...</td>\n",
       "      <td>0.08</td>\n",
       "      <td>0.03</td>\n",
       "      <td>0.00</td>\n",
       "      <td>0.00</td>\n",
       "      <td>0.00</td>\n",
       "      <td>0.00</td>\n",
       "      <td>0.44</td>\n",
       "      <td>1.00</td>\n",
       "      <td>mscan</td>\n",
       "      <td>14</td>\n",
       "    </tr>\n",
       "  </tbody>\n",
       "</table>\n",
       "<p>148517 rows × 43 columns</p>\n",
       "</div>"
      ],
      "text/plain": [
       "       duration protocol_type   service flag  src_bytes  dst_bytes  land  \\\n",
       "0             0           tcp  ftp_data   SF        491          0     0   \n",
       "1             0           udp     other   SF        146          0     0   \n",
       "2             0           tcp   private   S0          0          0     0   \n",
       "3             0           tcp      http   SF        232       8153     0   \n",
       "4             0           tcp      http   SF        199        420     0   \n",
       "...         ...           ...       ...  ...        ...        ...   ...   \n",
       "22539         0           tcp      smtp   SF        794        333     0   \n",
       "22540         0           tcp      http   SF        317        938     0   \n",
       "22541         0           tcp      http   SF      54540       8314     0   \n",
       "22542         0           udp  domain_u   SF         42         42     0   \n",
       "22543         0           tcp    sunrpc  REJ          0          0     0   \n",
       "\n",
       "       wrong_fragment  urgent  hot  ...  dst_host_same_srv_rate  \\\n",
       "0                   0       0    0  ...                    0.17   \n",
       "1                   0       0    0  ...                    0.00   \n",
       "2                   0       0    0  ...                    0.10   \n",
       "3                   0       0    0  ...                    1.00   \n",
       "4                   0       0    0  ...                    1.00   \n",
       "...               ...     ...  ...  ...                     ...   \n",
       "22539               0       0    0  ...                    0.72   \n",
       "22540               0       0    0  ...                    1.00   \n",
       "22541               0       0    2  ...                    1.00   \n",
       "22542               0       0    0  ...                    0.99   \n",
       "22543               0       0    0  ...                    0.08   \n",
       "\n",
       "       dst_host_diff_srv_rate  dst_host_same_src_port_rate  \\\n",
       "0                        0.03                         0.17   \n",
       "1                        0.60                         0.88   \n",
       "2                        0.05                         0.00   \n",
       "3                        0.00                         0.03   \n",
       "4                        0.00                         0.00   \n",
       "...                       ...                          ...   \n",
       "22539                    0.06                         0.01   \n",
       "22540                    0.00                         0.01   \n",
       "22541                    0.00                         0.00   \n",
       "22542                    0.01                         0.00   \n",
       "22543                    0.03                         0.00   \n",
       "\n",
       "       dst_host_srv_diff_host_rate  dst_host_serror_rate  \\\n",
       "0                             0.00                  0.00   \n",
       "1                             0.00                  0.00   \n",
       "2                             0.00                  1.00   \n",
       "3                             0.04                  0.03   \n",
       "4                             0.00                  0.00   \n",
       "...                            ...                   ...   \n",
       "22539                         0.01                  0.01   \n",
       "22540                         0.01                  0.01   \n",
       "22541                         0.00                  0.00   \n",
       "22542                         0.00                  0.00   \n",
       "22543                         0.00                  0.00   \n",
       "\n",
       "       dst_host_srv_serror_rate  dst_host_rerror_rate  \\\n",
       "0                          0.00                  0.05   \n",
       "1                          0.00                  0.00   \n",
       "2                          1.00                  0.00   \n",
       "3                          0.01                  0.00   \n",
       "4                          0.00                  0.00   \n",
       "...                         ...                   ...   \n",
       "22539                      0.00                  0.00   \n",
       "22540                      0.00                  0.00   \n",
       "22541                      0.00                  0.07   \n",
       "22542                      0.00                  0.00   \n",
       "22543                      0.00                  0.44   \n",
       "\n",
       "       dst_host_srv_rerror_rate  attack_type  success_pred  \n",
       "0                          0.00       normal            20  \n",
       "1                          0.00       normal            15  \n",
       "2                          0.00      neptune            19  \n",
       "3                          0.01       normal            21  \n",
       "4                          0.00       normal            21  \n",
       "...                         ...          ...           ...  \n",
       "22539                      0.00       normal            21  \n",
       "22540                      0.00       normal            21  \n",
       "22541                      0.07         back            15  \n",
       "22542                      0.00       normal            21  \n",
       "22543                      1.00        mscan            14  \n",
       "\n",
       "[148517 rows x 43 columns]"
      ]
     },
     "execution_count": 55,
     "metadata": {},
     "output_type": "execute_result"
    }
   ],
   "source": [
    "combined_data"
   ]
  },
  {
   "cell_type": "code",
   "execution_count": 56,
   "id": "d0370e8c-14d6-4818-84be-60e8cfe9e709",
   "metadata": {},
   "outputs": [
    {
     "data": {
      "text/plain": [
       "(148517, 43)"
      ]
     },
     "execution_count": 56,
     "metadata": {},
     "output_type": "execute_result"
    }
   ],
   "source": [
    "combined_data.shape"
   ]
  },
  {
   "cell_type": "markdown",
   "id": "c0f3b918-5624-4a8b-80b0-f8b38aba34e9",
   "metadata": {},
   "source": [
    "### Set Classification Target Values <a name=\"setclasstarget_security\"></a>\n",
    "\n",
    "Our aim here is to check whether an intrusion is detected or not. We do not go deeper into the classification of the attacks. Thus, we add a 'target' column which maps label 'normal' to 0 and any intrusion as 1."
   ]
  },
  {
   "cell_type": "code",
   "execution_count": 57,
   "id": "d3ccda7b-29b3-47a3-8496-6818326411ea",
   "metadata": {},
   "outputs": [],
   "source": [
    "combined_data['target'] = combined_data.iloc[:,41].apply(lambda x: 0 if x == 'normal' else 1)"
   ]
  },
  {
   "cell_type": "code",
   "execution_count": 58,
   "id": "764f1d76-f666-4f71-b4d3-028506fafa18",
   "metadata": {},
   "outputs": [
    {
     "data": {
      "text/plain": [
       "(148517, 44)"
      ]
     },
     "execution_count": 58,
     "metadata": {},
     "output_type": "execute_result"
    }
   ],
   "source": [
    "combined_data.shape"
   ]
  },
  {
   "cell_type": "code",
   "execution_count": 59,
   "id": "0f57eccd-bb70-4e06-9d11-e1bf6c0a0e1a",
   "metadata": {},
   "outputs": [],
   "source": [
    "# export for viewing\n",
    "combined_data.to_excel(r'C:\\Users\\jboyce\\Desktop\\combined_data.xlsx')"
   ]
  },
  {
   "cell_type": "code",
   "execution_count": 60,
   "id": "df3e68e8-ea99-41b8-b35c-b1ed7edfd179",
   "metadata": {},
   "outputs": [],
   "source": [
    "# set the attack categories / classes"
   ]
  },
  {
   "cell_type": "code",
   "execution_count": 61,
   "id": "539c7511-9a93-447e-8977-f18e3a9069ad",
   "metadata": {},
   "outputs": [],
   "source": [
    "list_dos = ['apache2','back','land','neptune','mailbomb'\n",
    "            ,'pod','processtable','smurf','teardrop','udpstorm','worm']"
   ]
  },
  {
   "cell_type": "code",
   "execution_count": 62,
   "id": "59597017-48bd-4a29-b071-f221fb0462fc",
   "metadata": {},
   "outputs": [],
   "source": [
    "list_probe = ['lpsweep','mscan','nmap','portsweep','saint','satan']"
   ]
  },
  {
   "cell_type": "code",
   "execution_count": 63,
   "id": "c26604d4-04eb-41e6-aefe-70c950217e14",
   "metadata": {},
   "outputs": [],
   "source": [
    "list_u2r = ['buffer_overflow','loadmodule','perl','ps','rootkit','sqlattack','xterm']"
   ]
  },
  {
   "cell_type": "code",
   "execution_count": 64,
   "id": "53527d2f-9d9b-49b4-bf34-08ab3126b036",
   "metadata": {},
   "outputs": [],
   "source": [
    "list_r2l = ['ftp_write','guess_passwd','httptunnel','imap','multihop'\n",
    "            ,'named','phf','sendmail','snmpgetattack','spy','snmpguess'\n",
    "            ,'warezclient','warezmaster','xlock','xsnoop']"
   ]
  },
  {
   "cell_type": "code",
   "execution_count": 65,
   "id": "a31e8bfb-93b3-4572-aa07-08417423b821",
   "metadata": {},
   "outputs": [],
   "source": [
    "# define attack Classes\n",
    "combined_data.loc[combined_data['attack_type'].isin(list_dos), 'attack_category'] = 'DoS'\n",
    "combined_data.loc[combined_data['attack_type'].isin(list_probe), 'attack_category'] = 'Probe'\n",
    "combined_data.loc[combined_data['attack_type'].isin(list_u2r), 'attack_category'] = 'U2R'\n",
    "combined_data.loc[combined_data['attack_type'].isin(list_r2l), 'attack_category'] = 'R2L'\n",
    "combined_data.loc[~combined_data['attack_type'].isin(list_dos + list_probe + list_u2r+ list_r2l), 'attack_category'] = 'Benign'"
   ]
  },
  {
   "cell_type": "code",
   "execution_count": 66,
   "id": "ed0c7be7-3ffc-41e8-850c-c15ad5036a77",
   "metadata": {},
   "outputs": [
    {
     "data": {
      "text/plain": [
       "array(['normal', 'neptune', 'warezclient', 'ipsweep', 'portsweep',\n",
       "       'teardrop', 'nmap', 'satan', 'smurf', 'pod', 'back',\n",
       "       'guess_passwd', 'ftp_write', 'multihop', 'rootkit',\n",
       "       'buffer_overflow', 'imap', 'warezmaster', 'phf', 'land',\n",
       "       'loadmodule', 'spy', 'perl', 'saint', 'mscan', 'apache2',\n",
       "       'snmpgetattack', 'processtable', 'httptunnel', 'ps', 'snmpguess',\n",
       "       'mailbomb', 'named', 'sendmail', 'xterm', 'worm', 'xlock',\n",
       "       'xsnoop', 'sqlattack', 'udpstorm'], dtype=object)"
      ]
     },
     "execution_count": 66,
     "metadata": {},
     "output_type": "execute_result"
    }
   ],
   "source": [
    "# list(combined_data.attack_type.unique())\n",
    "combined_data.attack_type.unique()"
   ]
  },
  {
   "cell_type": "code",
   "execution_count": 67,
   "id": "e8b430ba-f7f4-4fab-b2eb-026dfccc4180",
   "metadata": {},
   "outputs": [
    {
     "data": {
      "text/plain": [
       "array(['Benign', 'DoS', 'R2L', 'Probe', 'U2R'], dtype=object)"
      ]
     },
     "execution_count": 67,
     "metadata": {},
     "output_type": "execute_result"
    }
   ],
   "source": [
    "# list(combined_data.attack_type.unique())\n",
    "combined_data.attack_category.unique()"
   ]
  },
  {
   "cell_type": "code",
   "execution_count": 68,
   "id": "a9c75931-b7f5-455c-93fe-40a695e0abfb",
   "metadata": {
    "tags": []
   },
   "outputs": [
    {
     "data": {
      "text/plain": [
       "<bound method DataFrame.info of        duration protocol_type   service flag  src_bytes  dst_bytes  land  \\\n",
       "0             0           tcp  ftp_data   SF        491          0     0   \n",
       "1             0           udp     other   SF        146          0     0   \n",
       "2             0           tcp   private   S0          0          0     0   \n",
       "3             0           tcp      http   SF        232       8153     0   \n",
       "4             0           tcp      http   SF        199        420     0   \n",
       "...         ...           ...       ...  ...        ...        ...   ...   \n",
       "22539         0           tcp      smtp   SF        794        333     0   \n",
       "22540         0           tcp      http   SF        317        938     0   \n",
       "22541         0           tcp      http   SF      54540       8314     0   \n",
       "22542         0           udp  domain_u   SF         42         42     0   \n",
       "22543         0           tcp    sunrpc  REJ          0          0     0   \n",
       "\n",
       "       wrong_fragment  urgent  hot  ...  dst_host_same_src_port_rate  \\\n",
       "0                   0       0    0  ...                         0.17   \n",
       "1                   0       0    0  ...                         0.88   \n",
       "2                   0       0    0  ...                         0.00   \n",
       "3                   0       0    0  ...                         0.03   \n",
       "4                   0       0    0  ...                         0.00   \n",
       "...               ...     ...  ...  ...                          ...   \n",
       "22539               0       0    0  ...                         0.01   \n",
       "22540               0       0    0  ...                         0.01   \n",
       "22541               0       0    2  ...                         0.00   \n",
       "22542               0       0    0  ...                         0.00   \n",
       "22543               0       0    0  ...                         0.00   \n",
       "\n",
       "       dst_host_srv_diff_host_rate  dst_host_serror_rate  \\\n",
       "0                             0.00                  0.00   \n",
       "1                             0.00                  0.00   \n",
       "2                             0.00                  1.00   \n",
       "3                             0.04                  0.03   \n",
       "4                             0.00                  0.00   \n",
       "...                            ...                   ...   \n",
       "22539                         0.01                  0.01   \n",
       "22540                         0.01                  0.01   \n",
       "22541                         0.00                  0.00   \n",
       "22542                         0.00                  0.00   \n",
       "22543                         0.00                  0.00   \n",
       "\n",
       "       dst_host_srv_serror_rate  dst_host_rerror_rate  \\\n",
       "0                          0.00                  0.05   \n",
       "1                          0.00                  0.00   \n",
       "2                          1.00                  0.00   \n",
       "3                          0.01                  0.00   \n",
       "4                          0.00                  0.00   \n",
       "...                         ...                   ...   \n",
       "22539                      0.00                  0.00   \n",
       "22540                      0.00                  0.00   \n",
       "22541                      0.00                  0.07   \n",
       "22542                      0.00                  0.00   \n",
       "22543                      0.00                  0.44   \n",
       "\n",
       "       dst_host_srv_rerror_rate  attack_type  success_pred  target  \\\n",
       "0                          0.00       normal            20       0   \n",
       "1                          0.00       normal            15       0   \n",
       "2                          0.00      neptune            19       1   \n",
       "3                          0.01       normal            21       0   \n",
       "4                          0.00       normal            21       0   \n",
       "...                         ...          ...           ...     ...   \n",
       "22539                      0.00       normal            21       0   \n",
       "22540                      0.00       normal            21       0   \n",
       "22541                      0.07         back            15       1   \n",
       "22542                      0.00       normal            21       0   \n",
       "22543                      1.00        mscan            14       1   \n",
       "\n",
       "       attack_category  \n",
       "0               Benign  \n",
       "1               Benign  \n",
       "2                  DoS  \n",
       "3               Benign  \n",
       "4               Benign  \n",
       "...                ...  \n",
       "22539           Benign  \n",
       "22540           Benign  \n",
       "22541              DoS  \n",
       "22542           Benign  \n",
       "22543            Probe  \n",
       "\n",
       "[148517 rows x 45 columns]>"
      ]
     },
     "execution_count": 68,
     "metadata": {},
     "output_type": "execute_result"
    }
   ],
   "source": [
    "combined_data.info"
   ]
  },
  {
   "cell_type": "markdown",
   "id": "b717ca4d-5dc8-4369-8b5a-8b1b25ccb95d",
   "metadata": {},
   "source": [
    "### Visualizations <a name=\"visual_barh_security\"></a>"
   ]
  },
  {
   "cell_type": "code",
   "execution_count": 69,
   "id": "f6bd6d25-cca8-4cd3-a475-f28ef27a0dc4",
   "metadata": {},
   "outputs": [],
   "source": [
    "# data_barh_attacks = combined_data.sort_values(by='attack_type', ascending=False) #, inplace=True)\n",
    "data_barh_attacks = combined_data['attack_type'].value_counts() #sort_values(by='attack_type', ascending=False) #, inplace=True)"
   ]
  },
  {
   "cell_type": "code",
   "execution_count": 70,
   "id": "88b310e9-ca12-4114-9015-508f8f74180b",
   "metadata": {},
   "outputs": [],
   "source": [
    "# combined_data.groupby('attack_type').agg(\n",
    "#             attack_mean = ('attack_type', 'mean'),\n",
    "#             attack_count = ('attack_type', 'count'))"
   ]
  },
  {
   "cell_type": "code",
   "execution_count": 71,
   "id": "95c9c712-75dc-473e-bd98-6b4b371ab720",
   "metadata": {},
   "outputs": [],
   "source": [
    "# set index to attack_type, rename counts to Total\n",
    "data_barh_attacks.sort_values(ascending=True, inplace=True) #by='attack_type', "
   ]
  },
  {
   "cell_type": "code",
   "execution_count": 72,
   "id": "55ba2832-db24-49b0-9f2d-9f5d042ca6a8",
   "metadata": {},
   "outputs": [
    {
     "data": {
      "text/plain": [
       "spy          2\n",
       "sqlattack    2\n",
       "udpstorm     2\n",
       "worm         2\n",
       "xsnoop       4\n",
       "Name: attack_type, dtype: int64"
      ]
     },
     "execution_count": 72,
     "metadata": {},
     "output_type": "execute_result"
    }
   ],
   "source": [
    "data_barh_attacks.head()"
   ]
  },
  {
   "cell_type": "code",
   "execution_count": 73,
   "id": "454ab01d-6ef1-41bc-849c-302473ec5eb1",
   "metadata": {},
   "outputs": [
    {
     "name": "stdout",
     "output_type": "stream",
     "text": [
      "['Solarize_Light2', '_classic_test_patch', 'bmh', 'classic', 'dark_background', 'fast', 'fivethirtyeight', 'ggplot', 'grayscale', 'seaborn', 'seaborn-bright', 'seaborn-colorblind', 'seaborn-dark', 'seaborn-dark-palette', 'seaborn-darkgrid', 'seaborn-deep', 'seaborn-muted', 'seaborn-notebook', 'seaborn-paper', 'seaborn-pastel', 'seaborn-poster', 'seaborn-talk', 'seaborn-ticks', 'seaborn-white', 'seaborn-whitegrid', 'tableau-colorblind10']\n"
     ]
    }
   ],
   "source": [
    "# check available plotting styles\n",
    "print(plt.style.available)"
   ]
  },
  {
   "cell_type": "code",
   "execution_count": 74,
   "id": "71ccdbda-f365-4180-a77b-d019f5808cfa",
   "metadata": {},
   "outputs": [],
   "source": [
    "mpl.style.use(['ggplot'])"
   ]
  },
  {
   "cell_type": "code",
   "execution_count": 75,
   "id": "86f19edc-c241-4b4b-b06c-345fd662df8b",
   "metadata": {},
   "outputs": [
    {
     "data": {
      "image/png": "[encoded data removed]",
      "text/plain": [
       "<Figure size 864x864 with 1 Axes>"
      ]
     },
     "metadata": {},
     "output_type": "display_data"
    }
   ],
   "source": [
    "# Plot attack types\n",
    "# generate plot\n",
    "\n",
    "data_barh_attacks.plot(kind='barh', width=0.9, figsize=(12, 12), color='steelblue') # height=0.8, \n",
    "plt.xlabel('Number of Attacks', fontweight='bold')\n",
    "plt.title('Network Attacks', fontweight='bold')\n",
    "\n",
    "# ax = plt.axes()\n",
    "# ax.set_facecolor(\"yellow\")\n",
    "\n",
    "# annotate value labels to each country\n",
    "for index, value in enumerate(data_barh_attacks):\n",
    "    label = format(int(value), ',') # format int with commas\n",
    "    \n",
    "    # place text at the end of bar (subtracting 47000 from x, and 0.1 from y to make it fit within the bar)\n",
    "    plt.annotate(label, xy=(value - 4700, index - 0.20), color='white', fontweight='bold')\n",
    "\n",
    "plt.show()"
   ]
  },
  {
   "cell_type": "code",
   "execution_count": 76,
   "id": "0d04dfc5-c2f2-4c80-8ead-2d85707832ef",
   "metadata": {},
   "outputs": [],
   "source": [
    "# data_barh_attacks = combined_data.sort_values(by='attack_type', ascending=False) #, inplace=True)\n",
    "data_barh_categories = combined_data['attack_category'].value_counts() #sort_values(by='attack_type', ascending=False) #, inplace=True)"
   ]
  },
  {
   "cell_type": "code",
   "execution_count": 77,
   "id": "c639831c-92a7-496a-b5e4-77a24652be38",
   "metadata": {},
   "outputs": [
    {
     "data": {
      "text/plain": [
       "(5,)"
      ]
     },
     "execution_count": 77,
     "metadata": {},
     "output_type": "execute_result"
    }
   ],
   "source": [
    "data_barh_categories.shape"
   ]
  },
  {
   "cell_type": "code",
   "execution_count": 78,
   "id": "6ec0ef61-01f9-4d7c-83c2-d47337c42457",
   "metadata": {},
   "outputs": [],
   "source": [
    "# set index to attack_type, rename counts to Total\n",
    "data_barh_categories.sort_values(ascending=True, inplace=True) #by='attack_type', "
   ]
  },
  {
   "cell_type": "code",
   "execution_count": 79,
   "id": "661be294-5e94-4f83-863a-9abe19f14e72",
   "metadata": {},
   "outputs": [
    {
     "data": {
      "text/plain": [
       "U2R         119\n",
       "R2L        3880\n",
       "Probe     10337\n",
       "DoS       53387\n",
       "Benign    80794\n",
       "Name: attack_category, dtype: int64"
      ]
     },
     "execution_count": 79,
     "metadata": {},
     "output_type": "execute_result"
    }
   ],
   "source": [
    "data_barh_categories.head()"
   ]
  },
  {
   "cell_type": "code",
   "execution_count": 80,
   "id": "db750eb2-538e-4e12-8edf-79189570b107",
   "metadata": {},
   "outputs": [
    {
     "data": {
      "image/png": "[encoded data removed]",
      "text/plain": [
       "<Figure size 576x576 with 1 Axes>"
      ]
     },
     "metadata": {},
     "output_type": "display_data"
    }
   ],
   "source": [
    "# Plot attack types\n",
    "# generate plot\n",
    "\n",
    "data_barh_categories.plot(kind='barh', width=0.2, figsize=(8, 8), color='steelblue') # width=0.9, # height=0.8, \n",
    "plt.xlabel('Count of Network Attack Types', fontweight='bold')\n",
    "plt.title('Types of Network Attacks', fontweight='bold')\n",
    "\n",
    "# ax = plt.axes()\n",
    "# ax.set_facecolor(\"yellow\")\n",
    "\n",
    "# annotate value labels to each country\n",
    "for index, value in enumerate(data_barh_categories):\n",
    "    label = format(int(value), ',') # format int with commas\n",
    "    \n",
    "    # place text at the end of bar (subtracting 47000 from x, and 0.1 from y to make it fit within the bar)\n",
    "    plt.annotate(label, xy=(value - 8000, index - 0.05), color='white', fontweight='bold')\n",
    "\n",
    "plt.show()"
   ]
  },
  {
   "cell_type": "code",
   "execution_count": 81,
   "id": "39c8a815-0589-4fbb-be5c-3915164e0e49",
   "metadata": {},
   "outputs": [],
   "source": [
    "# should encode before train/test split"
   ]
  },
  {
   "cell_type": "markdown",
   "id": "f5b95172-e067-4cd9-8b5a-bb7ef6eb1768",
   "metadata": {},
   "source": [
    "### Perform One Hot Encoding <a name=\"onehot_security\"></a>"
   ]
  },
  {
   "cell_type": "code",
   "execution_count": 82,
   "id": "13dda75e-86ea-4cbd-9deb-701e436a2fde",
   "metadata": {},
   "outputs": [],
   "source": [
    "nominal_idx = [1, 2, 3]\n",
    "binary_idx = [6, 11, 13, 14, 20, 21]\n",
    "numeric_idx = list(set(range(41)).difference(nominal_idx).difference(binary_idx))"
   ]
  },
  {
   "cell_type": "code",
   "execution_count": 83,
   "id": "6ee67214-a05a-4806-85cf-eb9f7a9cbc84",
   "metadata": {},
   "outputs": [],
   "source": [
    "nominal_cols = col_names[nominal_idx].tolist()\n",
    "binary_cols = col_names[binary_idx].tolist()\n",
    "numeric_cols = col_names[numeric_idx].tolist()"
   ]
  },
  {
   "cell_type": "code",
   "execution_count": 84,
   "id": "ef956275-dcf1-47a8-9be1-9ea76ef7ee40",
   "metadata": {},
   "outputs": [
    {
     "data": {
      "text/plain": [
       "['protocol_type', 'service', 'flag']"
      ]
     },
     "execution_count": 84,
     "metadata": {},
     "output_type": "execute_result"
    }
   ],
   "source": [
    "# PENDING - CHECK COLS - GOT ERROR ON attack_type portsweep to float. Need to delete\n",
    "nominal_cols"
   ]
  },
  {
   "cell_type": "markdown",
   "id": "e9b4b298-ef81-4687-9da5-263a358544a3",
   "metadata": {},
   "source": [
    "Column 42, attack_type, specifies the severity of the attack. For the intrusion detection system, the severity of an attack is irrelevant as any attack can be sever. It does not help in classifying whether there was an attack or not, or which type of attack was observed. Thus attack_type is removed from the data.\n",
    "\n",
    "Initially, the model is supposed to detect whether there has been an attack or not (detection). Only then should it learn to classify the attacks. Thus the attack_category column removed for the initial model."
   ]
  },
  {
   "cell_type": "code",
   "execution_count": 85,
   "id": "ea3eac02-7857-4dc2-a55b-e7bc3ebcb435",
   "metadata": {},
   "outputs": [],
   "source": [
    "# perform one-hot encoding\n",
    "X = combined_data.drop(columns=['target','attack_type','attack_category'],axis=1)\n",
    "X_onehot = pd.get_dummies(X, columns=nominal_cols)\n",
    "y = combined_data.target\n",
    "indices = X.index"
   ]
  },
  {
   "cell_type": "markdown",
   "id": "adc486c2-e3b7-45b1-b0af-53e4f23ff691",
   "metadata": {},
   "source": [
    "Now, it's time to scale the data. Use MinMaxScaler on StandardScaler if you want the scaling operation to keep the small standard deviations of the original series or if you want to keep zero entries in the sparse data. \n",
    "\n",
    "Outliers in your data can seriously and negatively skew the results of standard scaling and normalization. If the data contains outliers, sklearn.preprocessing.RobustScaler will be more suitable for this problem of Network Security. RobustScaler uses robust estimates such as median and quartile ranges, so it won’t be affected as much by outliers\n",
    "\n",
    "Using the 'duration' feature as an example, let's see how the different scalers mentioned above affect the resulting scaled data."
   ]
  },
  {
   "cell_type": "code",
   "execution_count": 86,
   "id": "51892a9a-42dd-46cc-8acf-af7e0b0a7cdf",
   "metadata": {},
   "outputs": [
    {
     "data": {
      "text/plain": [
       "count    1.485170e+05\n",
       "mean    -5.501890e-18\n",
       "std      1.000003e+00\n",
       "min     -1.124811e-01\n",
       "25%     -1.124811e-01\n",
       "50%     -1.124811e-01\n",
       "75%     -1.124811e-01\n",
       "max      2.334247e+01\n",
       "dtype: float64"
      ]
     },
     "execution_count": 86,
     "metadata": {},
     "output_type": "execute_result"
    }
   ],
   "source": [
    "# Experimenting with StandardScaler on the single 'duration' feature\n",
    "from sklearn.preprocessing import StandardScaler\n",
    "\n",
    "durations = X_onehot['duration'].values.reshape(-1, 1)\n",
    "standard_scaler = StandardScaler().fit(durations)\n",
    "scaled_durations = standard_scaler.transform(durations)\n",
    "pd.Series(scaled_durations.flatten()).describe()"
   ]
  },
  {
   "cell_type": "code",
   "execution_count": 87,
   "id": "66df5ed2-2c7a-4967-911c-24807cbf58b5",
   "metadata": {},
   "outputs": [
    {
     "data": {
      "text/plain": [
       "count    148517.000000\n",
       "mean          0.004796\n",
       "std           0.042635\n",
       "min           0.000000\n",
       "25%           0.000000\n",
       "50%           0.000000\n",
       "75%           0.000000\n",
       "max           1.000000\n",
       "dtype: float64"
      ]
     },
     "execution_count": 87,
     "metadata": {},
     "output_type": "execute_result"
    }
   ],
   "source": [
    "from sklearn.preprocessing import MinMaxScaler\n",
    "\n",
    "min_max_scaler = MinMaxScaler().fit(durations)\n",
    "min_max_scaled_durations = min_max_scaler.transform(durations)\n",
    "pd.Series(min_max_scaled_durations.flatten()).describe()"
   ]
  },
  {
   "cell_type": "code",
   "execution_count": 88,
   "id": "1bf7a262-aa14-4588-a3bd-58d797bf084b",
   "metadata": {},
   "outputs": [
    {
     "data": {
      "text/plain": [
       "array([[0.],\n",
       "       [0.],\n",
       "       [0.],\n",
       "       ...,\n",
       "       [0.],\n",
       "       [0.],\n",
       "       [0.]])"
      ]
     },
     "execution_count": 88,
     "metadata": {},
     "output_type": "execute_result"
    }
   ],
   "source": [
    "min_max_scaled_durations #.flatten()"
   ]
  },
  {
   "cell_type": "code",
   "execution_count": 89,
   "id": "c9c18742-1309-4067-bb13-e13f94421ab0",
   "metadata": {},
   "outputs": [
    {
     "data": {
      "text/plain": [
       "array([0., 0., 0., ..., 0., 0., 0.])"
      ]
     },
     "execution_count": 89,
     "metadata": {},
     "output_type": "execute_result"
    }
   ],
   "source": [
    "min_max_scaled_durations.flatten()"
   ]
  },
  {
   "cell_type": "code",
   "execution_count": 90,
   "id": "78e54da6-82af-4b70-b1c8-55a9d2f72e02",
   "metadata": {},
   "outputs": [
    {
     "data": {
      "text/plain": [
       "count    148517.000000\n",
       "mean        276.779305\n",
       "std        2460.683131\n",
       "min           0.000000\n",
       "25%           0.000000\n",
       "50%           0.000000\n",
       "75%           0.000000\n",
       "max       57715.000000\n",
       "dtype: float64"
      ]
     },
     "execution_count": 90,
     "metadata": {},
     "output_type": "execute_result"
    }
   ],
   "source": [
    "from sklearn.preprocessing import RobustScaler\n",
    "\n",
    "robust_scaler = RobustScaler().fit(durations)\n",
    "robust_scaled_durations = robust_scaler.transform(durations)\n",
    "pd.Series(robust_scaled_durations.flatten()).describe()"
   ]
  },
  {
   "cell_type": "markdown",
   "id": "8dcd64f3-b6e4-4b0e-8547-14e595cfd079",
   "metadata": {},
   "source": [
    "Now that we've seen the differences in the the scalers, let's use the StandardScaler. Using other scalers may be an enhancement opportunity down the road."
   ]
  },
  {
   "cell_type": "code",
   "execution_count": 91,
   "id": "a21308a5-9771-4992-8c7c-63484d35e4b6",
   "metadata": {},
   "outputs": [
    {
     "data": {
      "text/plain": [
       "array([[-1.12481056e-01, -7.34564438e-03, -4.61422891e-03, ...,\n",
       "        -5.84812691e-01, -2.67150972e-01, -4.06814676e-01],\n",
       "       [-1.12481056e-01, -7.40941997e-03, -4.61422891e-03, ...,\n",
       "        -5.84812691e-01, -4.22074453e-01, -4.06814676e-01],\n",
       "       [-1.12481056e-01, -7.43640906e-03, -4.61422891e-03, ...,\n",
       "         1.74229525e+00, -4.22074453e-01, -4.06814676e-01],\n",
       "       ...,\n",
       "       [-1.12481056e-01,  2.64567957e-03, -2.36933291e-03, ...,\n",
       "        -5.84812691e-01, -2.05181580e-01, -1.98034706e-01],\n",
       "       [-1.12481056e-01, -7.42864507e-03, -4.60288833e-03, ...,\n",
       "        -5.84812691e-01, -4.22074453e-01, -4.06814676e-01],\n",
       "       [-1.12481056e-01, -7.43640906e-03, -4.61422891e-03, ...,\n",
       "        -5.84812691e-01,  9.41252172e-01,  2.57575633e+00]])"
      ]
     },
     "execution_count": 91,
     "metadata": {},
     "output_type": "execute_result"
    }
   ],
   "source": [
    "# scale the population that has the one hot transformation\n",
    "# but only scale the numeric columns\n",
    "standard_scaler = StandardScaler().fit(X_onehot[numeric_cols])\n",
    "standard_scaler.transform(X_onehot[numeric_cols])"
   ]
  },
  {
   "cell_type": "markdown",
   "id": "1ac50c8b-f585-432c-8368-5794b719c3c1",
   "metadata": {},
   "source": [
    "### Set Train / Test Splits <a name=\"train_test_security\"></a>"
   ]
  },
  {
   "cell_type": "code",
   "execution_count": 92,
   "id": "708e6f74-d7d4-4fac-a95f-4a6aaa25c74f",
   "metadata": {},
   "outputs": [
    {
     "name": "stdout",
     "output_type": "stream",
     "text": [
      "Train set: (103961, 123) (103961,)\n",
      "Train set (indices): Int64Index([  2255, 112691, 124490,  41675,  22145,   2719,  24721,  90750,\n",
      "             38164,  23872,\n",
      "            ...\n",
      "             20062,  79981,  73575, 107578,  94601, 115144,  16962,   3411,\n",
      "            120705, 115397],\n",
      "           dtype='int64', length=103961)\n",
      "Test set: (44556, 123) (44556,)\n",
      "Test set (indices):  Int64Index([ 68737,  97535,  35901,  64050, 104108,  33973,  81084, 125966,\n",
      "            101621,  65367,\n",
      "            ...\n",
      "             87067,  75956,  95073,  12268,  69461,   6025, 123409,  12434,\n",
      "             91721, 121892],\n",
      "           dtype='int64', length=44556)\n"
     ]
    }
   ],
   "source": [
    "from sklearn.model_selection import train_test_split\n",
    "\n",
    "X_train, X_test, y_train, y_test, indices_train, indices_test = train_test_split(X_onehot, y, indices, test_size=0.3, random_state=4)\n",
    "print ('Train set:', X_train.shape,  y_train.shape)\n",
    "print ('Train set (indices):', indices_train)\n",
    "print ('Test set:', X_test.shape,  y_test.shape)\n",
    "print ('Test set (indices): ', indices_test)"
   ]
  },
  {
   "cell_type": "markdown",
   "id": "0bc41370-5418-45c5-822b-3c8dddc74fc9",
   "metadata": {},
   "source": [
    "## Methodology - Supervised Learning: Classification <a name=\"method_class_security\"></a>\n",
    "\n",
    "We will utilize the following models in an attempt to solve our intrusion detection classification problem.\n",
    "\n",
    "* Random Forest\n",
    "* Support Vector Machines\n",
    "* Logistic Regression\n",
    "* Gaussian Naive Bayes\n",
    "* Gradient Boosting\n",
    "* Multi-Layer Perceptron"
   ]
  },
  {
   "cell_type": "markdown",
   "id": "892fd96a-5ce2-4dbd-9e0d-0c633679ded0",
   "metadata": {},
   "source": [
    "### Random Forest <a name=\"randomforest_security\"></a>\n",
    "\n",
    "The Random Forest model, an ensemble technique, conquers the bias and overfitting issues that plague Decision Tree classifiers used singly. Random forests overcome this using a voting system comprised of its forest of multiple \"weaker\" decision trees, each fit on a random subset of data. The aggregated output is the final classification."
   ]
  },
  {
   "cell_type": "code",
   "execution_count": 93,
   "id": "537c5c6e-3417-496d-bbc7-c6c091e69fda",
   "metadata": {},
   "outputs": [
    {
     "name": "stderr",
     "output_type": "stream",
     "text": [
      "[Parallel(n_jobs=1)]: Using backend SequentialBackend with 1 concurrent workers.\n",
      "[Parallel(n_jobs=1)]: Done 200 out of 200 | elapsed:   13.8s finished\n",
      "[Parallel(n_jobs=1)]: Using backend SequentialBackend with 1 concurrent workers.\n",
      "[Parallel(n_jobs=1)]: Done 200 out of 200 | elapsed:    1.7s finished\n",
      "[Parallel(n_jobs=1)]: Using backend SequentialBackend with 1 concurrent workers.\n"
     ]
    },
    {
     "name": "stdout",
     "output_type": "stream",
     "text": [
      "Train score:  1.0\n"
     ]
    },
    {
     "name": "stderr",
     "output_type": "stream",
     "text": [
      "[Parallel(n_jobs=1)]: Done 200 out of 200 | elapsed:    0.6s finished\n",
      "[Parallel(n_jobs=1)]: Using backend SequentialBackend with 1 concurrent workers.\n"
     ]
    },
    {
     "name": "stdout",
     "output_type": "stream",
     "text": [
      "Test score: 0.999281802675285\n",
      "Classification report:                precision    recall  f1-score   support\n",
      "\n",
      "           0       1.00      1.00      1.00     23224\n",
      "           1       1.00      1.00      1.00     21332\n",
      "\n",
      "    accuracy                           1.00     44556\n",
      "   macro avg       1.00      1.00      1.00     44556\n",
      "weighted avg       1.00      1.00      1.00     44556\n",
      "\n",
      "Average weighted precision:  0.9988280517532345\n",
      "Average weighted recall:  0.9996715773669889\n",
      "Average weighted f1 score:  0.9992496365427004\n"
     ]
    },
    {
     "name": "stderr",
     "output_type": "stream",
     "text": [
      "[Parallel(n_jobs=1)]: Done 200 out of 200 | elapsed:    0.6s finished\n"
     ]
    }
   ],
   "source": [
    "# from sklearn.ensemble import RandomForestClassifier\n",
    "\n",
    "mod_rf = RandomForestClassifier(n_estimators=200, criterion='entropy', random_state= 10, verbose= 1)\n",
    "mod_rf.fit(X_train, y_train)\n",
    "\n",
    "print(\"Train score: \",mod_rf.score(X_train, y_train))\n",
    "\n",
    "pred_rf = mod_rf.predict(X_test)\n",
    "print('Test score:',mod_rf.score(X_test, y_test))\n",
    "\n",
    "print(\"Classification report: \",classification_report(pred_rf,y_test))\n",
    "\n",
    "print(\"Average weighted precision: \",precision_score(y_test,pred_rf))\n",
    "print(\"Average weighted recall: \",recall_score(y_test,pred_rf))\n",
    "print(\"Average weighted f1 score: \",f1_score(y_test,pred_rf))"
   ]
  },
  {
   "cell_type": "code",
   "execution_count": 94,
   "id": "5a5da0ba-4de3-49ec-80f3-0fdb2e89bf32",
   "metadata": {},
   "outputs": [],
   "source": [
    "from sklearn.model_selection import cross_val_score\n"
   ]
  },
  {
   "cell_type": "code",
   "execution_count": 95,
   "id": "8999ace7-8c35-4495-a74e-be547457bbb1",
   "metadata": {},
   "outputs": [],
   "source": [
    "# from sklearn.ensemble import RandomForestClassifier\n",
    "# randomforest_classifier = RandomForestClassifier(n_estimators=100, random_state=0)\n",
    "# score=cross_val_score(model_rf,X,y,cv=10)\n",
    "# score.mean()"
   ]
  },
  {
   "cell_type": "code",
   "execution_count": 96,
   "id": "93d41fad-fe15-4013-a7ae-47cc266229a5",
   "metadata": {},
   "outputs": [],
   "source": [
    "# score"
   ]
  },
  {
   "cell_type": "markdown",
   "id": "21d78e47-f7cb-4a95-814a-7fe644733235",
   "metadata": {
    "jp-MarkdownHeadingCollapsed": true,
    "tags": []
   },
   "source": [
    "### Support Vector Machines <a name=\"svm_security\"></a>\n",
    "\n",
    "SVM works by mapping data to a high-dimensional feature space so that data points can be categorized, even when the data are not otherwise linearly separable. A separator between the categories is found, then the data is transformed in such a way that the separator could be drawn as a hyperplane. Following this, characteristics of new data can be used to predict the group to which a new record should belong."
   ]
  },
  {
   "cell_type": "code",
   "execution_count": 97,
   "id": "2dc0ad74-a4dc-4198-ac6f-9ea70f5088d8",
   "metadata": {},
   "outputs": [
    {
     "data": {
      "text/plain": [
       "'\\nfrom sklearn.svm import SVC\\nfrom sklearn.svm import NuSVC\\nfrom sklearn.svm import SVR\\n# from sklearn.svm import NuSVR # no probability\\n\\n# from sklearn.svm import LinearSVC\\n\\n# mod_svm = SVC(kernel=\\'linear\\', probability=True)\\n# mod_svm = LinearSVC() # DOESN\\'T HAVE PRED_PROB\\n# mod_svm = NuSVC(kernel=\\'linear\\', probability=True)\\n# mod_svm = SVR(kernel=\\'linear\\', probability=True)\\nmod_svm = NuSVR(kernel=\\'linear\\', probability=True)\\n\\nmod_svm.fit(X_train, y_train)\\n\\nprint(\"Train score: \",mod_svm.score(X_train, y_train))\\n\\npred_svm = mod_svm.predict(X_test)\\nprint(\\'Test score:\\',mod_svm.score(X_test, y_test))\\n\\nprint(\"Classification report: \",classification_report(pred_svm,y_test))\\n\\nprint(\"Average weighted precision: \",precision_score(y_test,pred_svm))\\nprint(\"Average weighted recall: \",recall_score(y_test,pred_svm))\\nprint(\"Average weighted f1 score: \",f1_score(y_test,pred_svm))\\n'"
      ]
     },
     "execution_count": 97,
     "metadata": {},
     "output_type": "execute_result"
    }
   ],
   "source": [
    "# sklearn.svm.SVC takes long time to run...skip for now\n",
    "# maybe try linear support vector classification...docs say svc takes too long when >10k+ samples \n",
    "# try alternative svm models sklearn.svm.SVR, \n",
    "# sklearn.svm.NuSVC # slow as well\n",
    "# sklearn.svm.SVR slow as well\n",
    "# sklearn.svm.NuSVR - no probability\n",
    "\"\"\"\n",
    "from sklearn.svm import SVC\n",
    "from sklearn.svm import NuSVC\n",
    "from sklearn.svm import SVR\n",
    "# from sklearn.svm import NuSVR # no probability\n",
    "\n",
    "# from sklearn.svm import LinearSVC\n",
    "\n",
    "# mod_svm = SVC(kernel='linear', probability=True)\n",
    "# mod_svm = LinearSVC() # DOESN'T HAVE PRED_PROB\n",
    "# mod_svm = NuSVC(kernel='linear', probability=True)\n",
    "# mod_svm = SVR(kernel='linear', probability=True)\n",
    "mod_svm = NuSVR(kernel='linear', probability=True)\n",
    "\n",
    "mod_svm.fit(X_train, y_train)\n",
    "\n",
    "print(\"Train score: \",mod_svm.score(X_train, y_train))\n",
    "\n",
    "pred_svm = mod_svm.predict(X_test)\n",
    "print('Test score:',mod_svm.score(X_test, y_test))\n",
    "\n",
    "print(\"Classification report: \",classification_report(pred_svm,y_test))\n",
    "\n",
    "print(\"Average weighted precision: \",precision_score(y_test,pred_svm))\n",
    "print(\"Average weighted recall: \",recall_score(y_test,pred_svm))\n",
    "print(\"Average weighted f1 score: \",f1_score(y_test,pred_svm))\n",
    "\"\"\""
   ]
  },
  {
   "cell_type": "markdown",
   "id": "873abd40-d787-4726-a1a4-52f103e27184",
   "metadata": {
    "tags": []
   },
   "source": [
    "### Logistic Regression <a name=\"lr_security\"></a>\n",
    "\n",
    "Logistic Regression classifcation is a variation of Linear Regression, and is useful when the observed dependent variable, y, is categorical. It produces a formula that predicts the probability of the class label as a function of the independent variables. It does this by transforming the linear regression using the s-shaped sigmoid function 𝜎. The resulting classifier outputs are between 0 and 1 (binary outcomes like yes or no, true or false); values larger than 0.5 result in the classifier setting outputs to 1 with the remaining values set to 0."
   ]
  },
  {
   "cell_type": "code",
   "execution_count": 98,
   "id": "2a678602-788a-4830-9e55-4c5372e26e36",
   "metadata": {},
   "outputs": [
    {
     "name": "stdout",
     "output_type": "stream",
     "text": [
      "Train score:  0.8594665307182501\n",
      "Test score: 0.862195888320316\n",
      "Classification report:                precision    recall  f1-score   support\n",
      "\n",
      "           0       0.92      0.84      0.87     25524\n",
      "           1       0.80      0.90      0.85     19032\n",
      "\n",
      "    accuracy                           0.86     44556\n",
      "   macro avg       0.86      0.87      0.86     44556\n",
      "weighted avg       0.87      0.86      0.86     44556\n",
      "\n",
      "Average weighted precision:  0.8986443883984867\n",
      "Average weighted recall:  0.8024303274842827\n",
      "Average weighted f1 score:  0.8478163882417094\n"
     ]
    }
   ],
   "source": [
    "# from sklearn.linear_model import LogisticRegression\n",
    "\n",
    "mod_lr = LogisticRegression(solver='liblinear') #adding liblinear solved AttributeError: 'str' object has no attribute 'decode'\n",
    "mod_lr.fit(X_train, y_train)\n",
    "\n",
    "print(\"Train score: \",mod_lr.score(X_train, y_train))\n",
    "\n",
    "pred_lr = mod_lr.predict(X_test)\n",
    "print('Test score:',mod_lr.score(X_test, y_test))\n",
    "\n",
    "print(\"Classification report: \",classification_report(pred_lr,y_test))\n",
    "\n",
    "print(\"Average weighted precision: \",precision_score(y_test,pred_lr))\n",
    "print(\"Average weighted recall: \",recall_score(y_test,pred_lr))\n",
    "print(\"Average weighted f1 score: \",f1_score(y_test,pred_lr))"
   ]
  },
  {
   "cell_type": "markdown",
   "id": "f4787d43-4aaf-4c0b-b983-feebb23fccab",
   "metadata": {},
   "source": [
    "### Gaussian Naive Bayes <a name=\"naive_bayes_security\"></a>\n",
    "\n",
    "Naive Bayes are a group of supervised machine learning classification algorithms based on the Bayes' theorem. It is a simple classification technique, but has high functionality. They find use when the dimensionality of the inputs is high. Complex classification problems can also be implemented by using Naive Bayes Classifier. Naive refers to the use of an assumption that the features of an object are independent of one another."
   ]
  },
  {
   "cell_type": "code",
   "execution_count": 99,
   "id": "7d0ecbf1-7ce2-4d40-adcb-8056d50ae25d",
   "metadata": {},
   "outputs": [
    {
     "name": "stdout",
     "output_type": "stream",
     "text": [
      "Train score:  0.520089264243322\n",
      "Test score: 0.5231618637220576\n",
      "Classification report:                precision    recall  f1-score   support\n",
      "\n",
      "           0       0.98      0.52      0.68     43778\n",
      "           1       0.02      0.54      0.04       778\n",
      "\n",
      "    accuracy                           0.52     44556\n",
      "   macro avg       0.50      0.53      0.36     44556\n",
      "weighted avg       0.97      0.52      0.67     44556\n",
      "\n",
      "Average weighted precision:  0.5437017994858612\n",
      "Average weighted recall:  0.01984611053767477\n",
      "Average weighted f1 score:  0.038294405214557306\n"
     ]
    }
   ],
   "source": [
    "# from sklearn.naive_bayes import GaussianNB\n",
    "\n",
    "mod_gnb = GaussianNB()\n",
    "mod_gnb.fit(X_train, y_train)\n",
    "\n",
    "print(\"Train score: \",mod_gnb.score(X_train, y_train))\n",
    "\n",
    "pred_nb = mod_gnb.predict(X_test)\n",
    "print('Test score:',mod_gnb.score(X_test, y_test))\n",
    "\n",
    "print(\"Classification report: \",classification_report(pred_nb,y_test))\n",
    "\n",
    "print(\"Average weighted precision: \",precision_score(y_test,pred_nb))\n",
    "print(\"Average weighted recall: \",recall_score(y_test,pred_nb))\n",
    "print(\"Average weighted f1 score: \",f1_score(y_test,pred_nb))"
   ]
  },
  {
   "cell_type": "markdown",
   "id": "31ba8136-f279-47b5-8041-fd911d4e6083",
   "metadata": {},
   "source": [
    "### Gradient Boosting <a name=\"gradient_boosting_security\"></a>\n",
    "\n",
    "Gradient boosting is a machine learning technique used in regression and classification tasks, among others. It gives a prediction model in the form of an ensemble of weak prediction models, which are typically decision trees. When a decision tree is the weak learner, the resulting algorithm is called gradient-boosted trees; it usually outperforms random forest. A gradient-boosted trees model is built in a stage-wise fashion as in other boosting methods, but it generalizes the other methods by allowing optimization of an arbitrary differentiable loss function.\n",
    "https://en.wikipedia.org/wiki/Gradient_boosting"
   ]
  },
  {
   "cell_type": "code",
   "execution_count": 100,
   "id": "9b27e1dc-d6f2-4ae8-ac9f-77a77b13072d",
   "metadata": {},
   "outputs": [
    {
     "name": "stdout",
     "output_type": "stream",
     "text": [
      "Train score:  0.9977299179500004\n",
      "Test score: 0.9965885627076039\n",
      "Classification report:                precision    recall  f1-score   support\n",
      "\n",
      "           0       1.00      1.00      1.00     23172\n",
      "           1       1.00      0.99      1.00     21384\n",
      "\n",
      "    accuracy                           1.00     44556\n",
      "   macro avg       1.00      1.00      1.00     44556\n",
      "weighted avg       1.00      1.00      1.00     44556\n",
      "\n",
      "Average weighted precision:  0.9948092031425365\n",
      "Average weighted recall:  0.9980763817209346\n",
      "Average weighted f1 score:  0.9964401142910674\n"
     ]
    }
   ],
   "source": [
    "# from sklearn.ensemble import GradientBoostingClassifier\n",
    "\n",
    "mod_gb = GradientBoostingClassifier(n_estimators=200, random_state= 10)\n",
    "mod_gb.fit(X_train, y_train)\n",
    "\n",
    "print(\"Train score: \",mod_gb.score(X_train, y_train))\n",
    "\n",
    "pred_gb = mod_gb.predict(X_test)\n",
    "print('Test score:',mod_gb.score(X_test, y_test))\n",
    "\n",
    "print(\"Classification report: \",classification_report(pred_gb,y_test))\n",
    "\n",
    "print(\"Average weighted precision: \",precision_score(y_test,pred_gb))\n",
    "print(\"Average weighted recall: \",recall_score(y_test,pred_gb))\n",
    "print(\"Average weighted f1 score: \",f1_score(y_test,pred_gb))"
   ]
  },
  {
   "cell_type": "markdown",
   "id": "8023934c-b7fb-45fc-8f00-58fe484e2d03",
   "metadata": {},
   "source": [
    "### Multi-Layer Perceptron <a name=\"multi_layer_security\"></a>\n",
    "\n",
    "A multilayer perceptron (MLP) is a fully connected class of feedforward artificial neural network (ANN). The term MLP is used ambiguously, sometimes loosely to mean any feedforward ANN, sometimes strictly to refer to networks composed of multiple layers of perceptrons (with threshold activation).\n",
    "\n",
    "An MLP consists of at least three layers of nodes: an input layer, a hidden layer and an output layer. MLP utilizes a supervised learning technique called backpropagation for training. It can distinguish data that is not linearly separable.\n",
    "\n",
    "https://en.wikipedia.org/wiki/Multilayer_perceptron"
   ]
  },
  {
   "cell_type": "code",
   "execution_count": 101,
   "id": "cd9a20af-d988-4b30-b5b4-5f0e2d004ccb",
   "metadata": {},
   "outputs": [
    {
     "name": "stdout",
     "output_type": "stream",
     "text": [
      "Train score:  0.9337732418887852\n",
      "Test score: 0.9354744591076398\n",
      "Classification report:                precision    recall  f1-score   support\n",
      "\n",
      "           0       0.96      0.92      0.94     24281\n",
      "           1       0.91      0.95      0.93     20275\n",
      "\n",
      "    accuracy                           0.94     44556\n",
      "   macro avg       0.93      0.94      0.94     44556\n",
      "weighted avg       0.94      0.94      0.94     44556\n",
      "\n",
      "Average weighted precision:  0.9547225647348951\n",
      "Average weighted recall:  0.9081824153138782\n",
      "Average weighted f1 score:  0.9308711438120657\n"
     ]
    }
   ],
   "source": [
    "# from sklearn.neural_network import MLPClassifier\n",
    "\n",
    "mod_mlp = MLPClassifier(hidden_layer_sizes=[100,50])\n",
    "mod_mlp.fit(X_train, y_train)\n",
    "\n",
    "print(\"Train score: \",mod_mlp.score(X_train, y_train))\n",
    "\n",
    "pred_mlp = mod_mlp.predict(X_test)\n",
    "print('Test score:',mod_mlp.score(X_test, y_test))\n",
    "\n",
    "print(\"Classification report: \",classification_report(pred_mlp,y_test))\n",
    "\n",
    "print(\"Average weighted precision: \",precision_score(y_test,pred_mlp))\n",
    "print(\"Average weighted recall: \",recall_score(y_test,pred_mlp))\n",
    "print(\"Average weighted f1 score: \",f1_score(y_test,pred_mlp))"
   ]
  },
  {
   "cell_type": "markdown",
   "id": "42cf08bb-5332-494a-8c19-526d4eaa724f",
   "metadata": {},
   "source": [
    "## Model Comparison <a name=\"mod_comp_security\"></a>"
   ]
  },
  {
   "cell_type": "code",
   "execution_count": 104,
   "id": "4227deec-99bd-48cc-940d-01d4bd2ed584",
   "metadata": {},
   "outputs": [
    {
     "name": "stdout",
     "output_type": "stream",
     "text": [
      "No Skill AUC:  0.5\n"
     ]
    },
    {
     "name": "stderr",
     "output_type": "stream",
     "text": [
      "[Parallel(n_jobs=1)]: Using backend SequentialBackend with 1 concurrent workers.\n",
      "[Parallel(n_jobs=1)]: Done 200 out of 200 | elapsed:    0.6s finished\n"
     ]
    },
    {
     "name": "stdout",
     "output_type": "stream",
     "text": [
      "RandomForest AUC:  0.9999965854494712\n",
      "Logistic Regression AUC:  0.9357034099649579\n",
      "Gaussian Naive Bayes AUC:  0.9063569519889447\n",
      "GradientBoosting AUC:  0.9999496679304696\n",
      "MultiLayer Perceptron AUC:  0.957698217514592\n"
     ]
    },
    {
     "data": {
      "text/plain": [
       "<matplotlib.legend.Legend at 0x229652678e0>"
      ]
     },
     "execution_count": 104,
     "metadata": {},
     "output_type": "execute_result"
    },
    {
     "data": {
      "image/png": "[encoded data removed]",
      "text/plain": [
       "<Figure size 864x576 with 1 Axes>"
      ]
     },
     "metadata": {},
     "output_type": "display_data"
    }
   ],
   "source": [
    "no_skill_prob = [0 for _ in range(len(y_test))]\n",
    "no_skill_auc = roc_auc_score(y_test, no_skill_prob)\n",
    "print(\"No Skill AUC: \", no_skill_auc)\n",
    "ns_fpr, ns_tpr, _ = roc_curve(y_test, no_skill_prob)\n",
    "\n",
    "prob_rf = mod_rf.predict_proba(X_test)[:,-1]\n",
    "auc_rf = roc_auc_score(y_test,prob_rf)\n",
    "print(\"RandomForest AUC: \", auc_rf)\n",
    "rf_fpr, rf_tpr, _ = roc_curve(y_test, prob_rf)\n",
    "\n",
    "# prob_svm = mod_svm.predict_proba(X_test)[:,-1]\n",
    "# auc_svm = roc_auc_score(y_test, prob_svm)\n",
    "# print(\"Support Vector Machine AUC: \", auc_svm)\n",
    "# svm_fpr, svm_tpr, _ = roc_curve(y_test, prob_svm)\n",
    "\n",
    "prob_lr = mod_lr.predict_proba(X_test)[:,-1]\n",
    "auc_lr = roc_auc_score(y_test, prob_lr)\n",
    "print(\"Logistic Regression AUC: \",auc_lr)\n",
    "lr_fpr, lr_tpr, _ = roc_curve(y_test, prob_lr)\n",
    "\n",
    "prob_nb = mod_gnb.predict_proba(X_test)[:,-1]\n",
    "auc_nb = roc_auc_score(y_test, prob_nb)\n",
    "print(\"Gaussian Naive Bayes AUC: \", auc_nb)\n",
    "nb_fpr, nb_tpr, _ = roc_curve(y_test, prob_nb)\n",
    "\n",
    "prob_gb = mod_gb.predict_proba(X_test)[:,-1]\n",
    "auc_gb = roc_auc_score(y_test, prob_gb)\n",
    "print(\"GradientBoosting AUC: \", auc_gb)\n",
    "gb_fpr, gb_tpr, _ = roc_curve(y_test, prob_gb)\n",
    "\n",
    "prob_mlp = mod_mlp.predict_proba(X_test)[:,-1]\n",
    "auc_mlp = roc_auc_score(y_test, prob_mlp)\n",
    "print(\"MultiLayer Perceptron AUC: \", auc_mlp)\n",
    "mlp_fpr, mlp_tpr, _ = roc_curve(y_test, prob_mlp)\n",
    "\n",
    "fig,ax = plt.subplots(figsize=(12,8))\n",
    "ax.plot(ns_fpr, ns_tpr, linestyle= '--', label= 'Reference')\n",
    "ax.plot(rf_fpr, rf_tpr, linestyle= '-', label= 'RandomForest')\n",
    "# ax.plot(svm_fpr, svm_tpr, linestyle= '-', label= 'SupportVectorMachine')\n",
    "ax.plot(lr_fpr, lr_tpr, linestyle='-', label= 'LogisticRegression')\n",
    "ax.plot(nb_fpr, nb_tpr, linestyle='-', label= 'GaussianNB')\n",
    "ax.plot(gb_fpr, gb_tpr, linestyle='-', label= 'GradientBoosting')\n",
    "ax.plot(mlp_fpr, mlp_tpr, linestyle='-', label= 'MultiLayer Perceptron')\n",
    "plt.xlabel('False Positve Rate')\n",
    "plt.ylabel('True Positive Rate')\n",
    "plt.title('ROC curve')\n",
    "ax.legend(loc=\"lower right\")"
   ]
  },
  {
   "cell_type": "markdown",
   "id": "115ef956-3183-4e43-8f03-0de3822a89be",
   "metadata": {},
   "source": [
    "The below plot is a zoomed in version of the previous ROC plot in order to better examine the performance differnces of the models."
   ]
  },
  {
   "cell_type": "code",
   "execution_count": 109,
   "id": "a25ecfd5-0904-4353-95c6-119ac81daf49",
   "metadata": {},
   "outputs": [
    {
     "data": {
      "text/plain": [
       "<matplotlib.legend.Legend at 0x2290aa69ee0>"
      ]
     },
     "execution_count": 109,
     "metadata": {},
     "output_type": "execute_result"
    },
    {
     "data": {
      "image/png": "[encoded data removed]",
      "text/plain": [
       "<Figure size 864x576 with 1 Axes>"
      ]
     },
     "metadata": {},
     "output_type": "display_data"
    }
   ],
   "source": [
    "fig,ax = plt.subplots(figsize=(12,8))\n",
    "ax.plot(ns_fpr, ns_tpr, linestyle= '--', label= 'Reference')\n",
    "ax.plot(rf_fpr, rf_tpr, linestyle= '-', label= 'RandomForest')\n",
    "# ax.plot(svm_fpr, svm_tpr, linestyle= '-', label= 'SupportVectorMachine')\n",
    "ax.plot(lr_fpr, lr_tpr, linestyle='-', label= 'LogisticRegression')\n",
    "ax.plot(nb_fpr, nb_tpr, linestyle='-', label= 'GaussianNB')\n",
    "ax.plot(gb_fpr, gb_tpr, linestyle='-', label= 'GradientBoosting')\n",
    "ax.plot(mlp_fpr, mlp_tpr, linestyle='-', label= 'MultiLayer Perceptron')\n",
    "plt.xlabel('False Positve rate')\n",
    "plt.ylabel('True Positive rate')\n",
    "plt.title('ROC Curve (Zoomed on Top Left)')\n",
    "plt.xlim([0,0.7])\n",
    "plt.ylim([0.5,1])\n",
    "ax.legend(loc=\"lower right\")"
   ]
  },
  {
   "cell_type": "markdown",
   "id": "d777de9e-efc5-4337-b577-1c2241c3c4a3",
   "metadata": {},
   "source": [
    "A reliability diagram is a line plot of the relative frequency of what was observed (y-axis) versus the predicted probability frequency (x-axis). The predicted probabilites are divided into fixed number of buckets (bins). The more reliable predictions are, the closer they are to being on the line y=x."
   ]
  },
  {
   "cell_type": "code",
   "execution_count": 112,
   "id": "643660b9-495b-4477-868f-c8490d82d564",
   "metadata": {},
   "outputs": [
    {
     "data": {
      "image/png": "[encoded data removed]",
      "text/plain": [
       "<Figure size 864x576 with 1 Axes>"
      ]
     },
     "metadata": {},
     "output_type": "display_data"
    }
   ],
   "source": [
    "rf_x, rf_y = calibration_curve(y_test, prob_rf, n_bins=10)\n",
    "# sv_x, sv_y = calibration_curve(y_test, prob_svm, n_bins=10)\n",
    "lr_x, lr_y = calibration_curve(y_test, prob_lr, n_bins=10)\n",
    "nb_x, nb_y = calibration_curve(y_test, prob_nb, n_bins=10)\n",
    "gb_x, gb_y = calibration_curve(y_test, prob_gb, n_bins=10)\n",
    "mlp_x, mlp_y = calibration_curve(y_test, prob_mlp, n_bins=10)\n",
    "\n",
    "fig, ax = plt.subplots(figsize=(12,8))\n",
    "ax.plot(rf_x, rf_y, marker= 'o', linewidth= '1', label= 'RandomForest')\n",
    "# ax.plot(sv_x, sv_y, marker= 'o', linewidth= '1', label= 'SupportVector Machine')\n",
    "ax.plot(lr_x, lr_y, marker= 'o', linewidth= '1', label= 'LogisticRegression')\n",
    "# ax.plot(nb_x, nb_y, marker= 'o', linewidth= '1', label= 'GaussianNB')\n",
    "ax.plot(gb_x, gb_y, marker= 'o', linewidth= '1', label= 'GradientBoosting')\n",
    "ax.plot(mlp_x, mlp_y, marker= 'o', linewidth= '1', label= 'MultiLayer Perceptron')\n",
    "\n",
    "line = mlines.Line2D([0,1],[0,1], color='black')\n",
    "ax.add_line(line)\n",
    "ax.legend()\n",
    "plt.xlabel('Mean Predicted Probability')\n",
    "plt.ylabel('Fraction of Positives')\n",
    "plt.title('Reliability (Calibration Curve)')\n",
    "plt.show()"
   ]
  },
  {
   "cell_type": "markdown",
   "id": "58b7a023-dade-417d-9417-a3a9bcf41400",
   "metadata": {},
   "source": [
    "Let's create a table that aggregates all the scores from each model."
   ]
  },
  {
   "cell_type": "code",
   "execution_count": 113,
   "id": "a8eed284-8927-4b6e-ae87-0fe2c17f75ed",
   "metadata": {},
   "outputs": [
    {
     "name": "stderr",
     "output_type": "stream",
     "text": [
      "[Parallel(n_jobs=1)]: Using backend SequentialBackend with 1 concurrent workers.\n",
      "[Parallel(n_jobs=1)]: Done 200 out of 200 | elapsed:    0.7s finished\n",
      "[Parallel(n_jobs=1)]: Using backend SequentialBackend with 1 concurrent workers.\n",
      "[Parallel(n_jobs=1)]: Done 200 out of 200 | elapsed:    0.7s finished\n"
     ]
    }
   ],
   "source": [
    "models = {\n",
    "    'Random Forest':mod_rf, \n",
    "    # 'Support Vector Machine': svm_mod,\n",
    "    'Logistic Regression':mod_lr,\n",
    "    'Gaussian Naive Bayes': mod_gnb,\n",
    "    'Gradient Boosting':mod_gb,\n",
    "    'Multi-Layer Perceptron':mod_mlp\n",
    "}\n",
    "\n",
    "columns = [\n",
    "    'accuracy',\n",
    "    'precision',\n",
    "    'recall',\n",
    "    'f1'\n",
    "]\n",
    "\n",
    "table = {}\n",
    "\n",
    "\n",
    "for model in models.keys():\n",
    "    \n",
    "    pred = models[model].predict(X_test)\n",
    "    accuracy = models[model].score(X_test,y_test)\n",
    "    precision = precision_score(y_test,pred)\n",
    "    recall = recall_score(y_test, pred)\n",
    "    f1 = f1_score(y_test,pred)\n",
    "    \n",
    "    table[model] = [accuracy, precision, recall, f1]"
   ]
  },
  {
   "cell_type": "code",
   "execution_count": 114,
   "id": "ae0539bb-64e0-4dee-a64a-1aeb8b474a1e",
   "metadata": {},
   "outputs": [
    {
     "data": {
      "text/html": [
       "<div>\n",
       "<style scoped>\n",
       "    .dataframe tbody tr th:only-of-type {\n",
       "        vertical-align: middle;\n",
       "    }\n",
       "\n",
       "    .dataframe tbody tr th {\n",
       "        vertical-align: top;\n",
       "    }\n",
       "\n",
       "    .dataframe thead th {\n",
       "        text-align: right;\n",
       "    }\n",
       "</style>\n",
       "<table border=\"1\" class=\"dataframe\">\n",
       "  <thead>\n",
       "    <tr style=\"text-align: right;\">\n",
       "      <th></th>\n",
       "      <th>accuracy</th>\n",
       "      <th>precision</th>\n",
       "      <th>recall</th>\n",
       "      <th>f1</th>\n",
       "    </tr>\n",
       "  </thead>\n",
       "  <tbody>\n",
       "    <tr>\n",
       "      <th>Random Forest</th>\n",
       "      <td>0.999282</td>\n",
       "      <td>0.998828</td>\n",
       "      <td>0.999672</td>\n",
       "      <td>0.999250</td>\n",
       "    </tr>\n",
       "    <tr>\n",
       "      <th>Logistic Regression</th>\n",
       "      <td>0.862196</td>\n",
       "      <td>0.898644</td>\n",
       "      <td>0.802430</td>\n",
       "      <td>0.847816</td>\n",
       "    </tr>\n",
       "    <tr>\n",
       "      <th>Gaussian Naive Bayes</th>\n",
       "      <td>0.523162</td>\n",
       "      <td>0.543702</td>\n",
       "      <td>0.019846</td>\n",
       "      <td>0.038294</td>\n",
       "    </tr>\n",
       "    <tr>\n",
       "      <th>Gradient Boosting</th>\n",
       "      <td>0.996589</td>\n",
       "      <td>0.994809</td>\n",
       "      <td>0.998076</td>\n",
       "      <td>0.996440</td>\n",
       "    </tr>\n",
       "    <tr>\n",
       "      <th>Multi-Layer Perceptron</th>\n",
       "      <td>0.935474</td>\n",
       "      <td>0.954723</td>\n",
       "      <td>0.908182</td>\n",
       "      <td>0.930871</td>\n",
       "    </tr>\n",
       "  </tbody>\n",
       "</table>\n",
       "</div>"
      ],
      "text/plain": [
       "                        accuracy  precision    recall        f1\n",
       "Random Forest           0.999282   0.998828  0.999672  0.999250\n",
       "Logistic Regression     0.862196   0.898644  0.802430  0.847816\n",
       "Gaussian Naive Bayes    0.523162   0.543702  0.019846  0.038294\n",
       "Gradient Boosting       0.996589   0.994809  0.998076  0.996440\n",
       "Multi-Layer Perceptron  0.935474   0.954723  0.908182  0.930871"
      ]
     },
     "execution_count": 114,
     "metadata": {},
     "output_type": "execute_result"
    }
   ],
   "source": [
    "results = pd.DataFrame.from_dict(table, orient='index')\n",
    "results.columns = columns\n",
    "results"
   ]
  },
  {
   "cell_type": "markdown",
   "id": "b8a010bc-8516-4e99-ac40-cd8c563dd031",
   "metadata": {},
   "source": [
    "## Conclusion <a name=\"conclusion_security\"></a>\n",
    "\n",
    "The ROC curve shows similar results for Random Forest, Gradient Boosting, and Multi-Layer Perceptron with a roughly 0.99 area under the curve. The Random Forest clearly has the highest area under the curve.\n",
    "However, the Reliability diagram (Calibration curve) shows that Logistic Regression and Gradient Boosting classifiers more closely mimic the diagonal (y=x) line, which means their predictions are the most reliable. The Multi-Perceptron classifier until now showed at par results, but the calibration curve shows that its way off as compared to the other two and hence the predictions from this model are not reliable.\n",
    "\n",
    "In conclusion, the Random Forest classifier out performs all the models in detecting intrusion on the network. Gradient Boosting classifiers are a close second in detecting intrusions and giving reliable predictions."
   ]
  },
  {
   "cell_type": "code",
   "execution_count": null,
   "id": "4aca991c-26df-4bf5-a78c-f0649618126f",
   "metadata": {},
   "outputs": [],
   "source": []
  }
 ],
 "metadata": {
  "kernelspec": {
   "display_name": "Python 3 (ipykernel)",
   "language": "python",
   "name": "python3"
  },
  "language_info": {
   "codemirror_mode": {
    "name": "ipython",
    "version": 3
   },
   "file_extension": ".py",
   "mimetype": "text/x-python",
   "name": "python",
   "nbconvert_exporter": "python",
   "pygments_lexer": "ipython3",
   "version": "3.8.5"
  },
  "toc-showcode": true
 },
 "nbformat": 4,
 "nbformat_minor": 5
}
